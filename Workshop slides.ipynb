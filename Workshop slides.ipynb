{
 "cells": [
  {
   "cell_type": "markdown",
   "metadata": {
    "slideshow": {
     "slide_type": "slide"
    }
   },
   "source": [
    "# How to build a Machine Learning model with Python (and no PhD)"
   ]
  },
  {
   "cell_type": "markdown",
   "metadata": {
    "slideshow": {
     "slide_type": "slide"
    }
   },
   "source": [
    "# Agenda\n",
    "1. What is ML?\n",
    "2. What is a tidy dataset?\n",
    "2. An overview of the data pipeline (with Python)\n",
    "3. Let's train a model"
   ]
  },
  {
   "cell_type": "markdown",
   "metadata": {
    "slideshow": {
     "slide_type": "slide"
    }
   },
   "source": [
    "## What is ML?\n",
    "Machine Learning is a way to get computers to do what you want without **explicitely** programming them, by instead feeding them **examples** of what you want.\n",
    "\n",
    "1. Don't use ML if you can program the behaviour explicitely!\n",
    "2. Don't use ML if you don't have data!"
   ]
  },
  {
   "cell_type": "markdown",
   "metadata": {
    "slideshow": {
     "slide_type": "slide"
    }
   },
   "source": [
    "## What is ML?\n",
    "\n",
    "Machine Learning is mostly composed of two steps:\n",
    "1. Encoding your data in a high-dimensional vector space\n",
    "2. Learning, which is minimising your loss function in this vector space\n",
    "\n",
    "![Gradient descent](img/3d-gradient_descent.png)"
   ]
  },
  {
   "cell_type": "markdown",
   "metadata": {
    "slideshow": {
     "slide_type": "slide"
    }
   },
   "source": [
    "## Tidy Datasets\n",
    "\n",
    "Before starting any Machine Learning project, you'll need data. And in addition, you will want your data to be in the form of a **tidy dataset**: \n",
    "* Each variable forms a column and contains values\n",
    "* Each observation forms a row\n",
    "* Each type of observational unit forms a table\n",
    "\n",
    "This form will enable you to perform easily data analysis, and then Machine Learning. This [blog article](http://www.jeannicholashould.com/tidy-data-in-python.html) is a must-read to understand tidy datasets. "
   ]
  },
  {
   "cell_type": "markdown",
   "metadata": {
    "slideshow": {
     "slide_type": "slide"
    }
   },
   "source": [
    "## In practice\n",
    "\n",
    "1. Data wrangling: prepare your data, using Pandas (or the ETL of your choice) -> getting a tidy dataset out of your data\n",
    "2. Data preprocessing: Pandas or scikit-learn\n",
    "3. Model training and evaluation: scikit-learn\n"
   ]
  },
  {
   "cell_type": "markdown",
   "metadata": {
    "slideshow": {
     "slide_type": "subslide"
    }
   },
   "source": [
    "### The building block: NumPy\n",
    "\n",
    "NumPy is the fundamental library for scientific computing in Python. Here I will focus on the NumPy arrays, which are a way to efficiently store numerical matrices in memory, using a C-like representation. \n",
    "\n",
    "<img src=\"img/array_vs_list.png\" width=\"800\" />\n",
    "*Image from [this](http://jakevdp.github.io/blog/2014/05/09/why-python-is-slow/) blog article*\n",
    "\n",
    "In addition to efficient storage of data, NumPy proposes a lot of so-called *universal functions* that are applied in batch (either element-wise to a whole array (map) or as a reduce operation axis-wise). It also defines vectorial and matrix operations. \n",
    "\n",
    "*If you really need a universal function that is not already implemented, you can always use [Numba](http://numba.pydata.org/numba-doc/dev/user/vectorize.html).*\n"
   ]
  },
  {
   "cell_type": "code",
   "execution_count": 1,
   "metadata": {
    "slideshow": {
     "slide_type": "slide"
    }
   },
   "outputs": [
    {
     "data": {
      "text/plain": [
       "array([[  144, 13689,  2209],\n",
       "       [  289, 31684,  5184],\n",
       "       [  784, 32041,  6241]])"
      ]
     },
     "execution_count": 1,
     "metadata": {},
     "output_type": "execute_result"
    }
   ],
   "source": [
    "import numpy as np\n",
    "\n",
    "arr = np.array([[12, 117, 47], \n",
    "                [17, 178, 72],\n",
    "                [28, 179, 79]])\n",
    "np.power(arr, 2)"
   ]
  },
  {
   "cell_type": "code",
   "execution_count": 2,
   "metadata": {
    "slideshow": {
     "slide_type": "fragment"
    }
   },
   "outputs": [
    {
     "data": {
      "text/plain": [
       "array([ 19., 158.,  66.])"
      ]
     },
     "execution_count": 2,
     "metadata": {},
     "output_type": "execute_result"
    }
   ],
   "source": [
    "np.mean(arr, axis=0)"
   ]
  },
  {
   "cell_type": "code",
   "execution_count": 3,
   "metadata": {
    "slideshow": {
     "slide_type": "fragment"
    }
   },
   "outputs": [
    {
     "data": {
      "text/plain": [
       "81.0"
      ]
     },
     "execution_count": 3,
     "metadata": {},
     "output_type": "execute_result"
    }
   ],
   "source": [
    "np.mean(arr)"
   ]
  },
  {
   "cell_type": "markdown",
   "metadata": {
    "slideshow": {
     "slide_type": "subslide"
    }
   },
   "source": [
    "### Step one: extract, transform, load (ETL) with Pandas\n",
    "\n",
    "NumPy arrays are great for performance, but can be tedious to handle in real world. First, your columns may not be all of the same types (numerical, categorical, datetime); then, it's error-prone to handle lines and columns by index rather than by name. \n",
    "\n",
    "Pandas DataFrame are built on top of NumPy arrays to alleviate these issues (and many more). It's my go-to library for ETL; when I'm done, I can convert my DataFrame to a numpy array for further computing."
   ]
  },
  {
   "cell_type": "code",
   "execution_count": 4,
   "metadata": {
    "slideshow": {
     "slide_type": "slide"
    }
   },
   "outputs": [
    {
     "data": {
      "text/html": [
       "<div>\n",
       "<style scoped>\n",
       "    .dataframe tbody tr th:only-of-type {\n",
       "        vertical-align: middle;\n",
       "    }\n",
       "\n",
       "    .dataframe tbody tr th {\n",
       "        vertical-align: top;\n",
       "    }\n",
       "\n",
       "    .dataframe thead th {\n",
       "        text-align: right;\n",
       "    }\n",
       "</style>\n",
       "<table border=\"1\" class=\"dataframe\">\n",
       "  <thead>\n",
       "    <tr style=\"text-align: right;\">\n",
       "      <th></th>\n",
       "      <th>Age</th>\n",
       "      <th>Size</th>\n",
       "      <th>Weight</th>\n",
       "    </tr>\n",
       "  </thead>\n",
       "  <tbody>\n",
       "    <tr>\n",
       "      <th>1</th>\n",
       "      <td>12</td>\n",
       "      <td>117</td>\n",
       "      <td>47</td>\n",
       "    </tr>\n",
       "    <tr>\n",
       "      <th>2</th>\n",
       "      <td>17</td>\n",
       "      <td>178</td>\n",
       "      <td>72</td>\n",
       "    </tr>\n",
       "    <tr>\n",
       "      <th>3</th>\n",
       "      <td>28</td>\n",
       "      <td>179</td>\n",
       "      <td>79</td>\n",
       "    </tr>\n",
       "  </tbody>\n",
       "</table>\n",
       "</div>"
      ],
      "text/plain": [
       "   Age  Size  Weight\n",
       "1   12   117      47\n",
       "2   17   178      72\n",
       "3   28   179      79"
      ]
     },
     "execution_count": 4,
     "metadata": {},
     "output_type": "execute_result"
    }
   ],
   "source": [
    "import pandas as pd\n",
    "df = pd.DataFrame(data=arr, columns=['Age', 'Size', 'Weight'], index=np.arange(1, 4))\n",
    "df"
   ]
  },
  {
   "cell_type": "code",
   "execution_count": 5,
   "metadata": {
    "slideshow": {
     "slide_type": "fragment"
    }
   },
   "outputs": [
    {
     "data": {
      "text/plain": [
       "1    12\n",
       "2    17\n",
       "3    28\n",
       "Name: Age, dtype: int64"
      ]
     },
     "execution_count": 5,
     "metadata": {},
     "output_type": "execute_result"
    }
   ],
   "source": [
    "df['Age']"
   ]
  },
  {
   "cell_type": "code",
   "execution_count": 6,
   "metadata": {
    "slideshow": {
     "slide_type": "fragment"
    }
   },
   "outputs": [
    {
     "data": {
      "text/plain": [
       "Age        19.0\n",
       "Size      158.0\n",
       "Weight     66.0\n",
       "dtype: float64"
      ]
     },
     "execution_count": 6,
     "metadata": {},
     "output_type": "execute_result"
    }
   ],
   "source": [
    "df.mean(axis=0)"
   ]
  },
  {
   "cell_type": "markdown",
   "metadata": {
    "slideshow": {
     "slide_type": "subslide"
    }
   },
   "source": [
    "### Step two: Machine Learning with scikit-learn\n",
    "\n",
    "Once I have a numpy array containing all my data, I can train machine learning algorithms on it. \n",
    "\n",
    "scikit-learn offers good implementations of typical machine learning estimators, and a unified API to link them all. The documentation is also very well-written and will help you choose the right algorithm for your need. \n",
    "\n",
    "```\n",
    "my_classifier = Classifier(hyperparameters)\n",
    "my_classifier.fit(X_train, y_train)\n",
    "my_classifier.score(X_val, y_val)\n",
    "my_classifier.predict(X_test)\n",
    "```"
   ]
  },
  {
   "cell_type": "markdown",
   "metadata": {
    "slideshow": {
     "slide_type": "subslide"
    }
   },
   "source": [
    "### Python ML pipeline\n",
    "1. **Load** and tidy your data with pandas\n",
    "3. **Split** your data between a training dataset and a test dataset -> `sklearn.model_selection.train_test_split`\n",
    "4. **Clean** your data (missing values, categorical variables, etc) -> `df.fillna`, `pd.get_dummies`\n",
    "5. **Extract** your numerical data as numpy array -> `df.as_matrix`\n",
    "6. **Preprocess** data with scikit-learn, using a `sklearn.pipeline.Pipeline`\n",
    "7. **Learn** a scikit-learn model with a `sklearn.model_selection.cross_val_score` wrapper to evaluate how well your model would generalize\n",
    "8. Maybe **adjust** your model hyperparemeters -> `sklearn.model_selection.GridSearchCV`\n",
    "9. Learn your model on all your training data, then **evaluate** on your test data"
   ]
  },
  {
   "cell_type": "markdown",
   "metadata": {
    "slideshow": {
     "slide_type": "slide"
    }
   },
   "source": [
    "## Let's learn a ML model!\n",
    "\n",
    "<img src=\"img/pokemon.jpg\" width=\"200\" />\n",
    "\n",
    "We want to learn to predict the outcome of pokemon battles. \n",
    "\n",
    "For that, we have the results of past battles in the file `pokemon-challenge/battles_train.csv`, and some characteristics of each Pokemon can be found in the file `pokemon-challenge/pokemon.csv`.\n",
    "\n",
    "Let's load the files with pandas and see what we have.\n",
    "\n"
   ]
  },
  {
   "cell_type": "code",
   "execution_count": 7,
   "metadata": {
    "slideshow": {
     "slide_type": "slide"
    }
   },
   "outputs": [
    {
     "data": {
      "text/html": [
       "<div>\n",
       "<style scoped>\n",
       "    .dataframe tbody tr th:only-of-type {\n",
       "        vertical-align: middle;\n",
       "    }\n",
       "\n",
       "    .dataframe tbody tr th {\n",
       "        vertical-align: top;\n",
       "    }\n",
       "\n",
       "    .dataframe thead th {\n",
       "        text-align: right;\n",
       "    }\n",
       "</style>\n",
       "<table border=\"1\" class=\"dataframe\">\n",
       "  <thead>\n",
       "    <tr style=\"text-align: right;\">\n",
       "      <th></th>\n",
       "      <th>First_pokemon</th>\n",
       "      <th>Second_pokemon</th>\n",
       "      <th>Winner</th>\n",
       "    </tr>\n",
       "  </thead>\n",
       "  <tbody>\n",
       "    <tr>\n",
       "      <th>0</th>\n",
       "      <td>266</td>\n",
       "      <td>298</td>\n",
       "      <td>298</td>\n",
       "    </tr>\n",
       "    <tr>\n",
       "      <th>1</th>\n",
       "      <td>702</td>\n",
       "      <td>701</td>\n",
       "      <td>701</td>\n",
       "    </tr>\n",
       "    <tr>\n",
       "      <th>2</th>\n",
       "      <td>191</td>\n",
       "      <td>668</td>\n",
       "      <td>668</td>\n",
       "    </tr>\n",
       "    <tr>\n",
       "      <th>3</th>\n",
       "      <td>237</td>\n",
       "      <td>683</td>\n",
       "      <td>683</td>\n",
       "    </tr>\n",
       "    <tr>\n",
       "      <th>4</th>\n",
       "      <td>151</td>\n",
       "      <td>231</td>\n",
       "      <td>151</td>\n",
       "    </tr>\n",
       "  </tbody>\n",
       "</table>\n",
       "</div>"
      ],
      "text/plain": [
       "   First_pokemon  Second_pokemon  Winner\n",
       "0            266             298     298\n",
       "1            702             701     701\n",
       "2            191             668     668\n",
       "3            237             683     683\n",
       "4            151             231     151"
      ]
     },
     "execution_count": 7,
     "metadata": {},
     "output_type": "execute_result"
    }
   ],
   "source": [
    "import pandas as pd\n",
    "import numpy as np\n",
    "battles = pd.read_csv('pokemon-challenge/battles_train.csv')\n",
    "battles.head(5)"
   ]
  },
  {
   "cell_type": "code",
   "execution_count": 8,
   "metadata": {
    "slideshow": {
     "slide_type": "slide"
    }
   },
   "outputs": [
    {
     "data": {
      "text/html": [
       "<div>\n",
       "<style scoped>\n",
       "    .dataframe tbody tr th:only-of-type {\n",
       "        vertical-align: middle;\n",
       "    }\n",
       "\n",
       "    .dataframe tbody tr th {\n",
       "        vertical-align: top;\n",
       "    }\n",
       "\n",
       "    .dataframe thead th {\n",
       "        text-align: right;\n",
       "    }\n",
       "</style>\n",
       "<table border=\"1\" class=\"dataframe\">\n",
       "  <thead>\n",
       "    <tr style=\"text-align: right;\">\n",
       "      <th></th>\n",
       "      <th>Name</th>\n",
       "      <th>Type 1</th>\n",
       "      <th>Type 2</th>\n",
       "      <th>HP</th>\n",
       "      <th>Attack</th>\n",
       "      <th>Defense</th>\n",
       "      <th>Sp. Atk</th>\n",
       "      <th>Sp. Def</th>\n",
       "      <th>Speed</th>\n",
       "      <th>Generation</th>\n",
       "      <th>Legendary</th>\n",
       "    </tr>\n",
       "    <tr>\n",
       "      <th>#</th>\n",
       "      <th></th>\n",
       "      <th></th>\n",
       "      <th></th>\n",
       "      <th></th>\n",
       "      <th></th>\n",
       "      <th></th>\n",
       "      <th></th>\n",
       "      <th></th>\n",
       "      <th></th>\n",
       "      <th></th>\n",
       "      <th></th>\n",
       "    </tr>\n",
       "  </thead>\n",
       "  <tbody>\n",
       "    <tr>\n",
       "      <th>1</th>\n",
       "      <td>Bulbasaur</td>\n",
       "      <td>Grass</td>\n",
       "      <td>Poison</td>\n",
       "      <td>45</td>\n",
       "      <td>49</td>\n",
       "      <td>49</td>\n",
       "      <td>65</td>\n",
       "      <td>65</td>\n",
       "      <td>45</td>\n",
       "      <td>1</td>\n",
       "      <td>False</td>\n",
       "    </tr>\n",
       "    <tr>\n",
       "      <th>2</th>\n",
       "      <td>Ivysaur</td>\n",
       "      <td>Grass</td>\n",
       "      <td>Poison</td>\n",
       "      <td>60</td>\n",
       "      <td>62</td>\n",
       "      <td>63</td>\n",
       "      <td>80</td>\n",
       "      <td>80</td>\n",
       "      <td>60</td>\n",
       "      <td>1</td>\n",
       "      <td>False</td>\n",
       "    </tr>\n",
       "    <tr>\n",
       "      <th>3</th>\n",
       "      <td>Venusaur</td>\n",
       "      <td>Grass</td>\n",
       "      <td>Poison</td>\n",
       "      <td>80</td>\n",
       "      <td>82</td>\n",
       "      <td>83</td>\n",
       "      <td>100</td>\n",
       "      <td>100</td>\n",
       "      <td>80</td>\n",
       "      <td>1</td>\n",
       "      <td>False</td>\n",
       "    </tr>\n",
       "    <tr>\n",
       "      <th>4</th>\n",
       "      <td>Mega Venusaur</td>\n",
       "      <td>Grass</td>\n",
       "      <td>Poison</td>\n",
       "      <td>80</td>\n",
       "      <td>100</td>\n",
       "      <td>123</td>\n",
       "      <td>122</td>\n",
       "      <td>120</td>\n",
       "      <td>80</td>\n",
       "      <td>1</td>\n",
       "      <td>False</td>\n",
       "    </tr>\n",
       "    <tr>\n",
       "      <th>5</th>\n",
       "      <td>Charmander</td>\n",
       "      <td>Fire</td>\n",
       "      <td>NaN</td>\n",
       "      <td>39</td>\n",
       "      <td>52</td>\n",
       "      <td>43</td>\n",
       "      <td>60</td>\n",
       "      <td>50</td>\n",
       "      <td>65</td>\n",
       "      <td>1</td>\n",
       "      <td>False</td>\n",
       "    </tr>\n",
       "  </tbody>\n",
       "</table>\n",
       "</div>"
      ],
      "text/plain": [
       "            Name Type 1  Type 2  HP  Attack  Defense  Sp. Atk  Sp. Def  Speed  \\\n",
       "#                                                                               \n",
       "1      Bulbasaur  Grass  Poison  45      49       49       65       65     45   \n",
       "2        Ivysaur  Grass  Poison  60      62       63       80       80     60   \n",
       "3       Venusaur  Grass  Poison  80      82       83      100      100     80   \n",
       "4  Mega Venusaur  Grass  Poison  80     100      123      122      120     80   \n",
       "5     Charmander   Fire     NaN  39      52       43       60       50     65   \n",
       "\n",
       "   Generation  Legendary  \n",
       "#                         \n",
       "1           1      False  \n",
       "2           1      False  \n",
       "3           1      False  \n",
       "4           1      False  \n",
       "5           1      False  "
      ]
     },
     "execution_count": 8,
     "metadata": {},
     "output_type": "execute_result"
    }
   ],
   "source": [
    "pokemons = pd.read_csv('pokemon-challenge/pokemon.csv', index_col=0)\n",
    "pokemons.head(5)"
   ]
  },
  {
   "cell_type": "code",
   "execution_count": 9,
   "metadata": {
    "slideshow": {
     "slide_type": "slide"
    }
   },
   "outputs": [
    {
     "data": {
      "text/html": [
       "<div>\n",
       "<style scoped>\n",
       "    .dataframe tbody tr th:only-of-type {\n",
       "        vertical-align: middle;\n",
       "    }\n",
       "\n",
       "    .dataframe tbody tr th {\n",
       "        vertical-align: top;\n",
       "    }\n",
       "\n",
       "    .dataframe thead th {\n",
       "        text-align: right;\n",
       "    }\n",
       "</style>\n",
       "<table border=\"1\" class=\"dataframe\">\n",
       "  <thead>\n",
       "    <tr style=\"text-align: right;\">\n",
       "      <th></th>\n",
       "      <th>HP</th>\n",
       "      <th>Attack</th>\n",
       "      <th>Defense</th>\n",
       "      <th>Sp. Atk</th>\n",
       "      <th>Sp. Def</th>\n",
       "      <th>Speed</th>\n",
       "      <th>Generation</th>\n",
       "    </tr>\n",
       "  </thead>\n",
       "  <tbody>\n",
       "    <tr>\n",
       "      <th>count</th>\n",
       "      <td>800.000000</td>\n",
       "      <td>800.000000</td>\n",
       "      <td>800.000000</td>\n",
       "      <td>800.000000</td>\n",
       "      <td>800.000000</td>\n",
       "      <td>800.000000</td>\n",
       "      <td>800.00000</td>\n",
       "    </tr>\n",
       "    <tr>\n",
       "      <th>mean</th>\n",
       "      <td>69.258750</td>\n",
       "      <td>79.001250</td>\n",
       "      <td>73.842500</td>\n",
       "      <td>72.820000</td>\n",
       "      <td>71.902500</td>\n",
       "      <td>68.277500</td>\n",
       "      <td>3.32375</td>\n",
       "    </tr>\n",
       "    <tr>\n",
       "      <th>std</th>\n",
       "      <td>25.534669</td>\n",
       "      <td>32.457366</td>\n",
       "      <td>31.183501</td>\n",
       "      <td>32.722294</td>\n",
       "      <td>27.828916</td>\n",
       "      <td>29.060474</td>\n",
       "      <td>1.66129</td>\n",
       "    </tr>\n",
       "    <tr>\n",
       "      <th>min</th>\n",
       "      <td>1.000000</td>\n",
       "      <td>5.000000</td>\n",
       "      <td>5.000000</td>\n",
       "      <td>10.000000</td>\n",
       "      <td>20.000000</td>\n",
       "      <td>5.000000</td>\n",
       "      <td>1.00000</td>\n",
       "    </tr>\n",
       "    <tr>\n",
       "      <th>25%</th>\n",
       "      <td>50.000000</td>\n",
       "      <td>55.000000</td>\n",
       "      <td>50.000000</td>\n",
       "      <td>49.750000</td>\n",
       "      <td>50.000000</td>\n",
       "      <td>45.000000</td>\n",
       "      <td>2.00000</td>\n",
       "    </tr>\n",
       "    <tr>\n",
       "      <th>50%</th>\n",
       "      <td>65.000000</td>\n",
       "      <td>75.000000</td>\n",
       "      <td>70.000000</td>\n",
       "      <td>65.000000</td>\n",
       "      <td>70.000000</td>\n",
       "      <td>65.000000</td>\n",
       "      <td>3.00000</td>\n",
       "    </tr>\n",
       "    <tr>\n",
       "      <th>75%</th>\n",
       "      <td>80.000000</td>\n",
       "      <td>100.000000</td>\n",
       "      <td>90.000000</td>\n",
       "      <td>95.000000</td>\n",
       "      <td>90.000000</td>\n",
       "      <td>90.000000</td>\n",
       "      <td>5.00000</td>\n",
       "    </tr>\n",
       "    <tr>\n",
       "      <th>max</th>\n",
       "      <td>255.000000</td>\n",
       "      <td>190.000000</td>\n",
       "      <td>230.000000</td>\n",
       "      <td>194.000000</td>\n",
       "      <td>230.000000</td>\n",
       "      <td>180.000000</td>\n",
       "      <td>6.00000</td>\n",
       "    </tr>\n",
       "  </tbody>\n",
       "</table>\n",
       "</div>"
      ],
      "text/plain": [
       "               HP      Attack     Defense     Sp. Atk     Sp. Def       Speed  \\\n",
       "count  800.000000  800.000000  800.000000  800.000000  800.000000  800.000000   \n",
       "mean    69.258750   79.001250   73.842500   72.820000   71.902500   68.277500   \n",
       "std     25.534669   32.457366   31.183501   32.722294   27.828916   29.060474   \n",
       "min      1.000000    5.000000    5.000000   10.000000   20.000000    5.000000   \n",
       "25%     50.000000   55.000000   50.000000   49.750000   50.000000   45.000000   \n",
       "50%     65.000000   75.000000   70.000000   65.000000   70.000000   65.000000   \n",
       "75%     80.000000  100.000000   90.000000   95.000000   90.000000   90.000000   \n",
       "max    255.000000  190.000000  230.000000  194.000000  230.000000  180.000000   \n",
       "\n",
       "       Generation  \n",
       "count   800.00000  \n",
       "mean      3.32375  \n",
       "std       1.66129  \n",
       "min       1.00000  \n",
       "25%       2.00000  \n",
       "50%       3.00000  \n",
       "75%       5.00000  \n",
       "max       6.00000  "
      ]
     },
     "execution_count": 9,
     "metadata": {},
     "output_type": "execute_result"
    }
   ],
   "source": [
    "pokemons.describe()"
   ]
  },
  {
   "cell_type": "code",
   "execution_count": 10,
   "metadata": {
    "slideshow": {
     "slide_type": "subslide"
    }
   },
   "outputs": [
    {
     "data": {
      "text/html": [
       "<div>\n",
       "<style scoped>\n",
       "    .dataframe tbody tr th:only-of-type {\n",
       "        vertical-align: middle;\n",
       "    }\n",
       "\n",
       "    .dataframe tbody tr th {\n",
       "        vertical-align: top;\n",
       "    }\n",
       "\n",
       "    .dataframe thead th {\n",
       "        text-align: right;\n",
       "    }\n",
       "</style>\n",
       "<table border=\"1\" class=\"dataframe\">\n",
       "  <thead>\n",
       "    <tr style=\"text-align: right;\">\n",
       "      <th></th>\n",
       "      <th>Name</th>\n",
       "      <th>Type 1</th>\n",
       "      <th>Type 2</th>\n",
       "      <th>Legendary</th>\n",
       "    </tr>\n",
       "  </thead>\n",
       "  <tbody>\n",
       "    <tr>\n",
       "      <th>count</th>\n",
       "      <td>799</td>\n",
       "      <td>800</td>\n",
       "      <td>414</td>\n",
       "      <td>800</td>\n",
       "    </tr>\n",
       "    <tr>\n",
       "      <th>unique</th>\n",
       "      <td>799</td>\n",
       "      <td>18</td>\n",
       "      <td>18</td>\n",
       "      <td>2</td>\n",
       "    </tr>\n",
       "    <tr>\n",
       "      <th>top</th>\n",
       "      <td>Goomy</td>\n",
       "      <td>Water</td>\n",
       "      <td>Flying</td>\n",
       "      <td>False</td>\n",
       "    </tr>\n",
       "    <tr>\n",
       "      <th>freq</th>\n",
       "      <td>1</td>\n",
       "      <td>112</td>\n",
       "      <td>97</td>\n",
       "      <td>735</td>\n",
       "    </tr>\n",
       "  </tbody>\n",
       "</table>\n",
       "</div>"
      ],
      "text/plain": [
       "         Name Type 1  Type 2 Legendary\n",
       "count     799    800     414       800\n",
       "unique    799     18      18         2\n",
       "top     Goomy  Water  Flying     False\n",
       "freq        1    112      97       735"
      ]
     },
     "execution_count": 10,
     "metadata": {},
     "output_type": "execute_result"
    }
   ],
   "source": [
    "pokemons.describe(exclude=[np.number])"
   ]
  },
  {
   "cell_type": "markdown",
   "metadata": {
    "slideshow": {
     "slide_type": "slide"
    }
   },
   "source": [
    "Our data is split across two tables, and it is not at all *tidy*. \n",
    "\n",
    "We want to modify our data to have the following characteristics:\n",
    "* each Pokemon battle is represented by one line\n",
    "* each line contains all necessary information for prediction, ie the characteristics of both Pokemons and the outcome\n",
    "* the outcome will be stored in a column 'label',  with the value 1 if the first Pokemon won, and 0 if the second Pokemon won."
   ]
  },
  {
   "cell_type": "markdown",
   "metadata": {
    "slideshow": {
     "slide_type": "fragment"
    }
   },
   "source": [
    "Hints: \n",
    "\n",
    "You can compare two columns in pandas with: `df['A'] == df['B']`\n",
    "\n",
    "Pandas allows you to do all kind of joins, see the [documentation](https://pandas.pydata.org/pandas-docs/stable/merging.html)."
   ]
  },
  {
   "cell_type": "code",
   "execution_count": 11,
   "metadata": {
    "slideshow": {
     "slide_type": "slide"
    }
   },
   "outputs": [],
   "source": [
    "battles['label'] = (battles['First_pokemon'] == battles['Winner']).astype(int)\n",
    "df = battles.join(pokemons, on='First_pokemon').join(pokemons, on='Second_pokemon', rsuffix='_opponent')"
   ]
  },
  {
   "cell_type": "markdown",
   "metadata": {
    "slideshow": {
     "slide_type": "slide"
    }
   },
   "source": [
    "Next we want to drop some irrelevant columns, such as indexex. What might they be?\n",
    "\n",
    "We can first check the name of the columns of the dataframe with `df.columns`."
   ]
  },
  {
   "cell_type": "code",
   "execution_count": 12,
   "metadata": {
    "slideshow": {
     "slide_type": "fragment"
    }
   },
   "outputs": [
    {
     "data": {
      "text/plain": [
       "Index(['First_pokemon', 'Second_pokemon', 'Winner', 'label', 'Name', 'Type 1',\n",
       "       'Type 2', 'HP', 'Attack', 'Defense', 'Sp. Atk', 'Sp. Def', 'Speed',\n",
       "       'Generation', 'Legendary', 'Name_opponent', 'Type 1_opponent',\n",
       "       'Type 2_opponent', 'HP_opponent', 'Attack_opponent', 'Defense_opponent',\n",
       "       'Sp. Atk_opponent', 'Sp. Def_opponent', 'Speed_opponent',\n",
       "       'Generation_opponent', 'Legendary_opponent'],\n",
       "      dtype='object')"
      ]
     },
     "execution_count": 12,
     "metadata": {},
     "output_type": "execute_result"
    }
   ],
   "source": [
    "df.columns"
   ]
  },
  {
   "cell_type": "code",
   "execution_count": 13,
   "metadata": {
    "slideshow": {
     "slide_type": "slide"
    }
   },
   "outputs": [],
   "source": [
    "df_ml = df.drop(['First_pokemon', 'Second_pokemon', 'Winner',\n",
    "                 'Name', 'Name_opponent', \n",
    "                 'Generation', 'Generation_opponent'], axis=1)\n",
    "# df_ml = df.drop(columns=['First_pokemon', 'Second_pokemon', 'Winner',\n",
    "#                 'Name', 'Name_opponent', \n",
    "#                 'Generation', 'Generation_opponent'])"
   ]
  },
  {
   "cell_type": "markdown",
   "metadata": {
    "slideshow": {
     "slide_type": "slide"
    }
   },
   "source": [
    "One more thing, we said that we wanted to encode all of our data as a numerical vector, and we still have non-numerical data (types and legendary status). \n",
    "\n",
    "We can check the types of all columns with `df.dtypes`."
   ]
  },
  {
   "cell_type": "code",
   "execution_count": 14,
   "metadata": {
    "slideshow": {
     "slide_type": "fragment"
    }
   },
   "outputs": [
    {
     "data": {
      "text/plain": [
       "label                  int64\n",
       "Type 1                object\n",
       "Type 2                object\n",
       "HP                     int64\n",
       "Attack                 int64\n",
       "Defense                int64\n",
       "Sp. Atk                int64\n",
       "Sp. Def                int64\n",
       "Speed                  int64\n",
       "Legendary               bool\n",
       "Type 1_opponent       object\n",
       "Type 2_opponent       object\n",
       "HP_opponent            int64\n",
       "Attack_opponent        int64\n",
       "Defense_opponent       int64\n",
       "Sp. Atk_opponent       int64\n",
       "Sp. Def_opponent       int64\n",
       "Speed_opponent         int64\n",
       "Legendary_opponent      bool\n",
       "dtype: object"
      ]
     },
     "execution_count": 14,
     "metadata": {},
     "output_type": "execute_result"
    }
   ],
   "source": [
    "df_ml.dtypes"
   ]
  },
  {
   "cell_type": "markdown",
   "metadata": {
    "slideshow": {
     "slide_type": "slide"
    }
   },
   "source": [
    "The legendary status is a binary value, we can simply cast it as an int. "
   ]
  },
  {
   "cell_type": "code",
   "execution_count": 15,
   "metadata": {
    "slideshow": {
     "slide_type": "fragment"
    }
   },
   "outputs": [],
   "source": [
    "df_ml['Legendary'] = df_ml['Legendary'].astype(int)\n",
    "df_ml['Legendary_opponent'] = df_ml['Legendary_opponent'].astype(int)"
   ]
  },
  {
   "cell_type": "markdown",
   "metadata": {
    "slideshow": {
     "slide_type": "slide"
    }
   },
   "source": [
    "For the types, we will use the one-hot encoding, which is provided by the function [`pd.get_dummies`](https://pandas.pydata.org/pandas-docs/stable/generated/pandas.get_dummies.html). \n",
    "\n",
    "A small subtetly here, each Pokemon can have up to 2 types, which we choose to encode without consideration for primary or secundary type. "
   ]
  },
  {
   "cell_type": "code",
   "execution_count": 16,
   "metadata": {
    "slideshow": {
     "slide_type": "fragment"
    }
   },
   "outputs": [],
   "source": [
    "types = pd.get_dummies(df_ml['Type 1'], prefix='Type') + pd.get_dummies(df_ml['Type 2'], prefix='Type')"
   ]
  },
  {
   "cell_type": "code",
   "execution_count": 17,
   "metadata": {
    "slideshow": {
     "slide_type": "fragment"
    }
   },
   "outputs": [],
   "source": [
    "types_opponents = pd.get_dummies(df_ml['Type 1_opponent'], prefix='Opponent_Type') + pd.get_dummies(df_ml['Type 2_opponent'], prefix='Opponent_Type')"
   ]
  },
  {
   "cell_type": "code",
   "execution_count": 18,
   "metadata": {
    "slideshow": {
     "slide_type": "fragment"
    }
   },
   "outputs": [],
   "source": [
    "df_ml = pd.concat((df_ml, types, types_opponents), axis=1).drop(['Type 1', 'Type 2', 'Type 1_opponent', 'Type 2_opponent'], axis=1)"
   ]
  },
  {
   "cell_type": "markdown",
   "metadata": {
    "slideshow": {
     "slide_type": "slide"
    }
   },
   "source": [
    "That's it, we're done with the data preparation! \n",
    "\n",
    "If you want to use the cleaned data for the rest of the workshop, you can load it from `pokemon-challenge/cleaned_train_data.csv`."
   ]
  },
  {
   "cell_type": "code",
   "execution_count": 19,
   "metadata": {
    "slideshow": {
     "slide_type": "fragment"
    }
   },
   "outputs": [],
   "source": [
    "df_ml = pd.read_csv('pokemon-challenge/cleaned_train_data.csv', index_col=0)"
   ]
  },
  {
   "cell_type": "markdown",
   "metadata": {
    "slideshow": {
     "slide_type": "slide"
    }
   },
   "source": [
    "### Let's train a decision tree model\n",
    "\n",
    "The first model we will learn is a decision tree. \n",
    "\n",
    "Decision trees create *if-then-else* rules in a top-down process, choosing at each level to split on the variable that optimize a criteria (minimize entropy for example). \n",
    " "
   ]
  },
  {
   "cell_type": "markdown",
   "metadata": {
    "slideshow": {
     "slide_type": "slide"
    }
   },
   "source": [
    "#### Decision trees : a toy example\n",
    "Let's try to predict if I should take ice-cream as dessert or not. \n",
    "\n",
    "I have written down a few variables that could influence my choice: whereas I'm on a diet or not, whereas it's summer or not, whereas the weather is sunny, whereas strawberries are available as an alternative, and whereas I ate pasta as main dish. The last column register whereas I had ice-cream as dessert.\n",
    "\n",
    "| Diet | Summer | Sunny | Strawberries | Pasta | Ice-cream |\n",
    "|------|--------|-------|--------------|-------|-----------|\n",
    "| 1    | 0      | 1     | 0            | 0     | 0         |\n",
    "| 0    | 1      | 1     | 0            | 0     | 1         |\n",
    "| 0    | 0      | 0     | 0            | 1     | 0         |\n",
    "| 0    | 1      | 0     | 1            | 0     | 0         |\n",
    "| 1    | 1      | 1     | 0            | 0     | 1         |\n",
    "| 0    | 0      | 1     | 0            | 0     | 0         |\n",
    "| 0    | 1      | 1     | 1            | 1     | 0         |\n",
    "| 0    | 1      | 1     | 0            | 0     | 1         |\n"
   ]
  },
  {
   "cell_type": "markdown",
   "metadata": {
    "slideshow": {
     "slide_type": "slide"
    }
   },
   "source": [
    "From this toy dataset, I could learn the following decision tree:\n",
    "\n",
    "![A toy decision tree](img/dt.png)"
   ]
  },
  {
   "cell_type": "markdown",
   "metadata": {
    "slideshow": {
     "slide_type": "slide"
    }
   },
   "source": [
    "Decision trees have the advantages to be **interpretable**, and to handle nicely multi-class classification and categorical variables. On the downside, they are quite instable and prone to **overfitting**."
   ]
  },
  {
   "cell_type": "code",
   "execution_count": 20,
   "metadata": {
    "slideshow": {
     "slide_type": "fragment"
    }
   },
   "outputs": [],
   "source": [
    "from sklearn.tree import DecisionTreeClassifier\n",
    "from sklearn.model_selection import train_test_split, cross_val_score"
   ]
  },
  {
   "cell_type": "markdown",
   "metadata": {
    "slideshow": {
     "slide_type": "slide"
    }
   },
   "source": [
    "In order to apply sklearn algorithms, we need to translate our pandas DataFrame to numpy arrays."
   ]
  },
  {
   "cell_type": "code",
   "execution_count": 21,
   "metadata": {
    "slideshow": {
     "slide_type": "fragment"
    }
   },
   "outputs": [],
   "source": [
    "X = df_ml.drop('label', axis=1).as_matrix()\n",
    "y = df_ml['label'].as_matrix()"
   ]
  },
  {
   "cell_type": "markdown",
   "metadata": {
    "slideshow": {
     "slide_type": "slide"
    }
   },
   "source": [
    "Since Decision Trees are so prone to overfitting, if we train our algorithm on the whole of the data, and then see how well it performs (that we call the training error), we will get a very optimistic estimate of how well the algorithm will perform in real life. \n",
    "\n",
    "One solution would be to split our training data into a train dataset and a validation dataset (see for example [`sklearn.model_selection.train_test_split`](http://scikit-learn.org/stable/modules/generated/sklearn.model_selection.train_test_split.html)). "
   ]
  },
  {
   "cell_type": "code",
   "execution_count": 22,
   "metadata": {
    "slideshow": {
     "slide_type": "fragment"
    }
   },
   "outputs": [],
   "source": [
    "X_train, X_val, y_train, y_val = train_test_split(X, y, test_size=0.2, stratify=y)"
   ]
  },
  {
   "cell_type": "markdown",
   "metadata": {
    "slideshow": {
     "slide_type": "slide"
    }
   },
   "source": [
    "Now, you can instantiate a `DecisionTreeClassifier` with default hyperparameter values, and train it with the method `fit(X, y)`. You can evaluate how well it did with the method `score(X, y)`. "
   ]
  },
  {
   "cell_type": "code",
   "execution_count": 23,
   "metadata": {
    "slideshow": {
     "slide_type": "fragment"
    }
   },
   "outputs": [
    {
     "name": "stdout",
     "output_type": "stream",
     "text": [
      "Training error 1.0 Validation error 0.9355\n"
     ]
    }
   ],
   "source": [
    "dt = DecisionTreeClassifier()\n",
    "dt.fit(X_train, y_train)\n",
    "print(\"Training error\",\n",
    "      dt.score(X_train, y_train),\n",
    "      \"Validation error\",\n",
    "      dt.score(X_val, y_val))"
   ]
  },
  {
   "cell_type": "markdown",
   "metadata": {
    "slideshow": {
     "slide_type": "fragment"
    }
   },
   "source": [
    "We can see that with the default hyperparameters settings, the algorithm learns a tree that perfectly classify the training set, but the result is not impressive on new data (overfitting)."
   ]
  },
  {
   "cell_type": "markdown",
   "metadata": {
    "slideshow": {
     "slide_type": "slide"
    }
   },
   "source": [
    "Another option, especially if you got little data, is to use cross-validation.\n",
    "\n",
    "At each iteration, we use 90% of the data to train a model, and the remaining 10% to evaluate how good the model is. And we repeat that 10 times, using a different 10% to evaluate each time. \n",
    "\n",
    "![Cross-validation](img/crossValidation.png)\n",
    "\n",
    "You can try it out with `sklearn.model_selection.cross_val_score`."
   ]
  },
  {
   "cell_type": "code",
   "execution_count": 24,
   "metadata": {
    "slideshow": {
     "slide_type": "slide"
    }
   },
   "outputs": [
    {
     "data": {
      "text/plain": [
       "0.9370249554765596"
      ]
     },
     "execution_count": 24,
     "metadata": {},
     "output_type": "execute_result"
    }
   ],
   "source": [
    "cross_val_score(DecisionTreeClassifier(), X, y, cv=10).mean()"
   ]
  },
  {
   "cell_type": "markdown",
   "metadata": {
    "slideshow": {
     "slide_type": "slide"
    }
   },
   "source": [
    "We said that Decision Trees have the huge advantage of being interpretable. One very nice feature is that they compute feature importances, a numerical value about how important a feature (= a variable) is to predict correctly the label. \n",
    "\n",
    "Let's learn again a tree, and see what the feature importances are (`dt.feature_importances_`). "
   ]
  },
  {
   "cell_type": "code",
   "execution_count": 25,
   "metadata": {
    "scrolled": true,
    "slideshow": {
     "slide_type": "slide"
    }
   },
   "outputs": [
    {
     "data": {
      "text/html": [
       "<div>\n",
       "<style scoped>\n",
       "    .dataframe tbody tr th:only-of-type {\n",
       "        vertical-align: middle;\n",
       "    }\n",
       "\n",
       "    .dataframe tbody tr th {\n",
       "        vertical-align: top;\n",
       "    }\n",
       "\n",
       "    .dataframe thead th {\n",
       "        text-align: right;\n",
       "    }\n",
       "</style>\n",
       "<table border=\"1\" class=\"dataframe\">\n",
       "  <thead>\n",
       "    <tr style=\"text-align: right;\">\n",
       "      <th></th>\n",
       "      <th>Feature importance</th>\n",
       "    </tr>\n",
       "  </thead>\n",
       "  <tbody>\n",
       "    <tr>\n",
       "      <th>Speed</th>\n",
       "      <td>0.407668</td>\n",
       "    </tr>\n",
       "    <tr>\n",
       "      <th>Speed_opponent</th>\n",
       "      <td>0.393014</td>\n",
       "    </tr>\n",
       "    <tr>\n",
       "      <th>Attack_opponent</th>\n",
       "      <td>0.027161</td>\n",
       "    </tr>\n",
       "    <tr>\n",
       "      <th>Attack</th>\n",
       "      <td>0.023932</td>\n",
       "    </tr>\n",
       "    <tr>\n",
       "      <th>HP</th>\n",
       "      <td>0.011712</td>\n",
       "    </tr>\n",
       "    <tr>\n",
       "      <th>Sp. Atk</th>\n",
       "      <td>0.010365</td>\n",
       "    </tr>\n",
       "    <tr>\n",
       "      <th>Defense</th>\n",
       "      <td>0.010343</td>\n",
       "    </tr>\n",
       "    <tr>\n",
       "      <th>HP_opponent</th>\n",
       "      <td>0.010013</td>\n",
       "    </tr>\n",
       "    <tr>\n",
       "      <th>Defense_opponent</th>\n",
       "      <td>0.009273</td>\n",
       "    </tr>\n",
       "    <tr>\n",
       "      <th>Sp. Atk_opponent</th>\n",
       "      <td>0.007721</td>\n",
       "    </tr>\n",
       "    <tr>\n",
       "      <th>Opponent_Type_Ghost</th>\n",
       "      <td>0.007713</td>\n",
       "    </tr>\n",
       "    <tr>\n",
       "      <th>Sp. Def_opponent</th>\n",
       "      <td>0.007356</td>\n",
       "    </tr>\n",
       "    <tr>\n",
       "      <th>Sp. Def</th>\n",
       "      <td>0.007064</td>\n",
       "    </tr>\n",
       "    <tr>\n",
       "      <th>Opponent_Type_Normal</th>\n",
       "      <td>0.005036</td>\n",
       "    </tr>\n",
       "    <tr>\n",
       "      <th>Type_Ghost</th>\n",
       "      <td>0.004627</td>\n",
       "    </tr>\n",
       "    <tr>\n",
       "      <th>Type_Normal</th>\n",
       "      <td>0.004489</td>\n",
       "    </tr>\n",
       "    <tr>\n",
       "      <th>Type_Flying</th>\n",
       "      <td>0.003581</td>\n",
       "    </tr>\n",
       "    <tr>\n",
       "      <th>Opponent_Type_Dark</th>\n",
       "      <td>0.002648</td>\n",
       "    </tr>\n",
       "    <tr>\n",
       "      <th>Opponent_Type_Psychic</th>\n",
       "      <td>0.002532</td>\n",
       "    </tr>\n",
       "    <tr>\n",
       "      <th>Opponent_Type_Ground</th>\n",
       "      <td>0.002512</td>\n",
       "    </tr>\n",
       "    <tr>\n",
       "      <th>Opponent_Type_Steel</th>\n",
       "      <td>0.002479</td>\n",
       "    </tr>\n",
       "    <tr>\n",
       "      <th>Opponent_Type_Electric</th>\n",
       "      <td>0.002421</td>\n",
       "    </tr>\n",
       "    <tr>\n",
       "      <th>Type_Electric</th>\n",
       "      <td>0.002204</td>\n",
       "    </tr>\n",
       "    <tr>\n",
       "      <th>Type_Psychic</th>\n",
       "      <td>0.002185</td>\n",
       "    </tr>\n",
       "    <tr>\n",
       "      <th>Opponent_Type_Water</th>\n",
       "      <td>0.001972</td>\n",
       "    </tr>\n",
       "    <tr>\n",
       "      <th>Type_Ground</th>\n",
       "      <td>0.001918</td>\n",
       "    </tr>\n",
       "    <tr>\n",
       "      <th>Type_Dragon</th>\n",
       "      <td>0.001895</td>\n",
       "    </tr>\n",
       "    <tr>\n",
       "      <th>Opponent_Type_Poison</th>\n",
       "      <td>0.001757</td>\n",
       "    </tr>\n",
       "    <tr>\n",
       "      <th>Type_Dark</th>\n",
       "      <td>0.001731</td>\n",
       "    </tr>\n",
       "    <tr>\n",
       "      <th>Type_Grass</th>\n",
       "      <td>0.001711</td>\n",
       "    </tr>\n",
       "    <tr>\n",
       "      <th>Type_Ice</th>\n",
       "      <td>0.001653</td>\n",
       "    </tr>\n",
       "    <tr>\n",
       "      <th>Type_Fighting</th>\n",
       "      <td>0.001635</td>\n",
       "    </tr>\n",
       "    <tr>\n",
       "      <th>Type_Water</th>\n",
       "      <td>0.001618</td>\n",
       "    </tr>\n",
       "    <tr>\n",
       "      <th>Type_Poison</th>\n",
       "      <td>0.001589</td>\n",
       "    </tr>\n",
       "    <tr>\n",
       "      <th>Opponent_Type_Fairy</th>\n",
       "      <td>0.001443</td>\n",
       "    </tr>\n",
       "    <tr>\n",
       "      <th>Opponent_Type_Flying</th>\n",
       "      <td>0.001403</td>\n",
       "    </tr>\n",
       "    <tr>\n",
       "      <th>Opponent_Type_Dragon</th>\n",
       "      <td>0.001385</td>\n",
       "    </tr>\n",
       "    <tr>\n",
       "      <th>Type_Fire</th>\n",
       "      <td>0.001314</td>\n",
       "    </tr>\n",
       "    <tr>\n",
       "      <th>Opponent_Type_Fire</th>\n",
       "      <td>0.001243</td>\n",
       "    </tr>\n",
       "    <tr>\n",
       "      <th>Opponent_Type_Fighting</th>\n",
       "      <td>0.001181</td>\n",
       "    </tr>\n",
       "    <tr>\n",
       "      <th>Opponent_Type_Bug</th>\n",
       "      <td>0.001119</td>\n",
       "    </tr>\n",
       "    <tr>\n",
       "      <th>Type_Bug</th>\n",
       "      <td>0.001016</td>\n",
       "    </tr>\n",
       "    <tr>\n",
       "      <th>Opponent_Type_Rock</th>\n",
       "      <td>0.000925</td>\n",
       "    </tr>\n",
       "    <tr>\n",
       "      <th>Opponent_Type_Grass</th>\n",
       "      <td>0.000831</td>\n",
       "    </tr>\n",
       "    <tr>\n",
       "      <th>Opponent_Type_Ice</th>\n",
       "      <td>0.000825</td>\n",
       "    </tr>\n",
       "    <tr>\n",
       "      <th>Type_Steel</th>\n",
       "      <td>0.000467</td>\n",
       "    </tr>\n",
       "    <tr>\n",
       "      <th>Type_Fairy</th>\n",
       "      <td>0.000430</td>\n",
       "    </tr>\n",
       "    <tr>\n",
       "      <th>Legendary</th>\n",
       "      <td>0.000424</td>\n",
       "    </tr>\n",
       "    <tr>\n",
       "      <th>Type_Rock</th>\n",
       "      <td>0.000398</td>\n",
       "    </tr>\n",
       "    <tr>\n",
       "      <th>Legendary_opponent</th>\n",
       "      <td>0.000067</td>\n",
       "    </tr>\n",
       "  </tbody>\n",
       "</table>\n",
       "</div>"
      ],
      "text/plain": [
       "                        Feature importance\n",
       "Speed                             0.407668\n",
       "Speed_opponent                    0.393014\n",
       "Attack_opponent                   0.027161\n",
       "Attack                            0.023932\n",
       "HP                                0.011712\n",
       "Sp. Atk                           0.010365\n",
       "Defense                           0.010343\n",
       "HP_opponent                       0.010013\n",
       "Defense_opponent                  0.009273\n",
       "Sp. Atk_opponent                  0.007721\n",
       "Opponent_Type_Ghost               0.007713\n",
       "Sp. Def_opponent                  0.007356\n",
       "Sp. Def                           0.007064\n",
       "Opponent_Type_Normal              0.005036\n",
       "Type_Ghost                        0.004627\n",
       "Type_Normal                       0.004489\n",
       "Type_Flying                       0.003581\n",
       "Opponent_Type_Dark                0.002648\n",
       "Opponent_Type_Psychic             0.002532\n",
       "Opponent_Type_Ground              0.002512\n",
       "Opponent_Type_Steel               0.002479\n",
       "Opponent_Type_Electric            0.002421\n",
       "Type_Electric                     0.002204\n",
       "Type_Psychic                      0.002185\n",
       "Opponent_Type_Water               0.001972\n",
       "Type_Ground                       0.001918\n",
       "Type_Dragon                       0.001895\n",
       "Opponent_Type_Poison              0.001757\n",
       "Type_Dark                         0.001731\n",
       "Type_Grass                        0.001711\n",
       "Type_Ice                          0.001653\n",
       "Type_Fighting                     0.001635\n",
       "Type_Water                        0.001618\n",
       "Type_Poison                       0.001589\n",
       "Opponent_Type_Fairy               0.001443\n",
       "Opponent_Type_Flying              0.001403\n",
       "Opponent_Type_Dragon              0.001385\n",
       "Type_Fire                         0.001314\n",
       "Opponent_Type_Fire                0.001243\n",
       "Opponent_Type_Fighting            0.001181\n",
       "Opponent_Type_Bug                 0.001119\n",
       "Type_Bug                          0.001016\n",
       "Opponent_Type_Rock                0.000925\n",
       "Opponent_Type_Grass               0.000831\n",
       "Opponent_Type_Ice                 0.000825\n",
       "Type_Steel                        0.000467\n",
       "Type_Fairy                        0.000430\n",
       "Legendary                         0.000424\n",
       "Type_Rock                         0.000398\n",
       "Legendary_opponent                0.000067"
      ]
     },
     "execution_count": 25,
     "metadata": {},
     "output_type": "execute_result"
    }
   ],
   "source": [
    "dt = DecisionTreeClassifier()\n",
    "dt.fit(X, y)\n",
    "pd.DataFrame(data=dt.feature_importances_, index=df_ml.columns[1:],\n",
    "             columns=['Feature importance']).sort_values(by=\"Feature importance\", ascending=False)"
   ]
  },
  {
   "cell_type": "markdown",
   "metadata": {
    "slideshow": {
     "slide_type": "slide"
    }
   },
   "source": [
    "From the feature importances, we can see that the most important variables are speed of both Pokemons; we can train a model with only those two variables and see how well it does."
   ]
  },
  {
   "cell_type": "code",
   "execution_count": 26,
   "metadata": {
    "slideshow": {
     "slide_type": "fragment"
    }
   },
   "outputs": [
    {
     "data": {
      "text/plain": [
       "0.930625174128136"
      ]
     },
     "execution_count": 26,
     "metadata": {},
     "output_type": "execute_result"
    }
   ],
   "source": [
    "X_speed = df_ml[['Speed', 'Speed_opponent']].as_matrix()\n",
    "cross_val_score(DecisionTreeClassifier(), X_speed, y, cv=10).mean()"
   ]
  },
  {
   "cell_type": "markdown",
   "metadata": {
    "slideshow": {
     "slide_type": "fragment"
    }
   },
   "source": [
    "Our accuracy is slightly worse, but we only use 2 variables instead of 50 ! "
   ]
  },
  {
   "cell_type": "markdown",
   "metadata": {
    "slideshow": {
     "slide_type": "slide"
    }
   },
   "source": [
    "### Ensemble methods: Random Forests\n",
    "\n",
    "Decision Trees are quick to train and quite easy to understand, but they have the downside of being very brittle and unstable. Changing only one sample in your training set can lead to the learning of a completely different tree. \n",
    "\n",
    "Here, I would like to introduce one of my favorite trick in Machine Learning: ensemble methods. \n",
    "\n",
    "The intuitive idea is that of the wisdom of crowd, or of expert committees. There are mathematical proofs that for some ensemble methods (like boosting), if you have a classifier that is slightly better than random, you can build an arbitrarily accurate ensemble from them. \n",
    "\n",
    "For Random Forests, the base classifier is a decision tree. In order to improve the robustness of prediction, we won't use only one tree, but rather average the prediction over a whole forest. \n",
    "\n",
    "How do we train this forest? For each tree, we draw with replacement a training set from the original training set. In addition, to ensure diversity, at each split, we choose the best from a random subset of features. "
   ]
  },
  {
   "cell_type": "markdown",
   "metadata": {
    "slideshow": {
     "slide_type": "slide"
    }
   },
   "source": [
    "But we don't have to worry about the implementation details for now, we can find an implementation in scikit-learn. "
   ]
  },
  {
   "cell_type": "code",
   "execution_count": 27,
   "metadata": {
    "slideshow": {
     "slide_type": "fragment"
    }
   },
   "outputs": [],
   "source": [
    "from sklearn.ensemble import RandomForestClassifier"
   ]
  },
  {
   "cell_type": "code",
   "execution_count": 28,
   "metadata": {
    "slideshow": {
     "slide_type": "slide"
    }
   },
   "outputs": [
    {
     "name": "stdout",
     "output_type": "stream",
     "text": [
      "Training error 0.996 Validation error 0.926625\n"
     ]
    }
   ],
   "source": [
    "rf = RandomForestClassifier()\n",
    "rf.fit(X_train, y_train)\n",
    "print(\"Training error\",\n",
    "      rf.score(X_train, y_train),\n",
    "      \"Validation error\",\n",
    "      rf.score(X_val, y_val))"
   ]
  },
  {
   "cell_type": "code",
   "execution_count": 29,
   "metadata": {
    "slideshow": {
     "slide_type": "slide"
    }
   },
   "outputs": [
    {
     "name": "stdout",
     "output_type": "stream",
     "text": [
      "Average accuracy for Decision Trees 0.9375999804828113 with a standard deviation of 0.002793708761436804\n",
      "Average accuracy for Random Forests 0.924250111568757 with a standard deviation of 0.004572590728928591\n"
     ]
    }
   ],
   "source": [
    "rf_cv_scores = cross_val_score(RandomForestClassifier(), X, y, cv=10) \n",
    "dt_cv_scores = cross_val_score(DecisionTreeClassifier(), X, y, cv=10)\n",
    "\n",
    "print(f'Average accuracy for Decision Trees {dt_cv_scores.mean()} with a standard deviation of {dt_cv_scores.std()}')\n",
    "print(f'Average accuracy for Random Forests {rf_cv_scores.mean()} with a standard deviation of {rf_cv_scores.std()}')"
   ]
  },
  {
   "cell_type": "markdown",
   "metadata": {
    "slideshow": {
     "slide_type": "slide"
    }
   },
   "source": [
    "For this dataset, we see that Random Forest does not perform better than Decision Tree, if we run them all with defaults parameters. \n",
    "\n",
    "We can also see that since scikit-learn provides a united API to interact with all ML estimators, it is tremendously easy to try out a new algorithm, and see what works best for you (in terms of accuracy, speed of execution or memory consumption). The documentation is also very useful to guide you on what usually works best. "
   ]
  },
  {
   "cell_type": "markdown",
   "metadata": {
    "slideshow": {
     "slide_type": "slide"
    }
   },
   "source": [
    "### Bonus step: choose hyperparameters\n",
    "\n",
    "Until now, we have used all algorithms \"out of the box\", without choosing any hyperparameters. \n",
    "\n",
    "First, what are hyperparameters? We call hyperparameters the algorithm parameters which are not learned, but choosen by the user.\n",
    "\n",
    "For example, in the Random Forest algorithm, we can choose how many trees we want in our forest. The default is 10, but I can increase it to 15."
   ]
  },
  {
   "cell_type": "code",
   "execution_count": 30,
   "metadata": {
    "slideshow": {
     "slide_type": "fragment"
    }
   },
   "outputs": [
    {
     "data": {
      "text/plain": [
       "0.9332002991906437"
      ]
     },
     "execution_count": 30,
     "metadata": {},
     "output_type": "execute_result"
    }
   ],
   "source": [
    "cross_val_score(RandomForestClassifier(n_estimators=15), X, y, cv=10).mean()"
   ]
  },
  {
   "cell_type": "markdown",
   "metadata": {
    "slideshow": {
     "slide_type": "slide"
    }
   },
   "source": [
    "We see that the accuracy has improved. But how to know if 15 is the optimal value?\n",
    "\n",
    "scikit-learn has a function `sklearn.model_selection.GridSearchCV` to automatise the search over a grid of parameters. Here, we will only test the impact of the number of trees in Random Forest, varying the value from 5 to 55. "
   ]
  },
  {
   "cell_type": "code",
   "execution_count": 31,
   "metadata": {
    "slideshow": {
     "slide_type": "slide"
    }
   },
   "outputs": [
    {
     "name": "stdout",
     "output_type": "stream",
     "text": [
      "Best hyperparameter choice {'n_estimators': 55}\n",
      "Averaged accuracy per run [0.909375 0.9277   0.9323   0.935575 0.93935  0.939875 0.94025  0.9412\n",
      " 0.94135  0.940625 0.941725]\n",
      "Standard deviation per run [0.00851169 0.00745612 0.00226475 0.0031868  0.00391961 0.00402718\n",
      " 0.00402483 0.0037949  0.00272123 0.00518303 0.00410262]\n"
     ]
    }
   ],
   "source": [
    "from sklearn.model_selection import GridSearchCV\n",
    "tested_values = {'n_estimators': list(range(5, 56, 5))}\n",
    "grid_search = GridSearchCV(RandomForestClassifier(), tested_values, cv=10)\n",
    "grid_search.fit(X, y)\n",
    "print(\"Best hyperparameter choice\", grid_search.best_params_)\n",
    "print(\"Averaged accuracy per run\", grid_search.cv_results_['mean_test_score'])\n",
    "print(\"Standard deviation per run\", grid_search.cv_results_['std_test_score'])"
   ]
  },
  {
   "cell_type": "markdown",
   "metadata": {
    "slideshow": {
     "slide_type": "slide"
    }
   },
   "source": [
    "### Bonus step: encoding type in a different way\n",
    "\n",
    "Spoiler alert: categorical variables are often difficult to exploit. One-of-k encoding is clumsy when a variable can take many different values, and it can break links existing between categories. \n",
    "\n",
    "In this dataset, the type(s) of each Pokemon are categorical. If you know the game, you know that there exists a system of type (dis)advantage. For example, Fire is weak to Water, but strong against Ice.\n",
    "\n",
    "You can find the numerical values associated with each pair of types in the file type.csv"
   ]
  },
  {
   "cell_type": "code",
   "execution_count": 32,
   "metadata": {
    "slideshow": {
     "slide_type": "slide"
    }
   },
   "outputs": [
    {
     "data": {
      "text/html": [
       "<div>\n",
       "<style scoped>\n",
       "    .dataframe tbody tr th:only-of-type {\n",
       "        vertical-align: middle;\n",
       "    }\n",
       "\n",
       "    .dataframe tbody tr th {\n",
       "        vertical-align: top;\n",
       "    }\n",
       "\n",
       "    .dataframe thead th {\n",
       "        text-align: right;\n",
       "    }\n",
       "</style>\n",
       "<table border=\"1\" class=\"dataframe\">\n",
       "  <thead>\n",
       "    <tr style=\"text-align: right;\">\n",
       "      <th>Attack type</th>\n",
       "      <th>Bug</th>\n",
       "      <th>Dark</th>\n",
       "      <th>Dragon</th>\n",
       "      <th>Electric</th>\n",
       "      <th>Fairy</th>\n",
       "      <th>Fighting</th>\n",
       "      <th>Fire</th>\n",
       "      <th>Flying</th>\n",
       "      <th>Ghost</th>\n",
       "      <th>Grass</th>\n",
       "      <th>Ground</th>\n",
       "      <th>Ice</th>\n",
       "      <th>Normal</th>\n",
       "      <th>Poison</th>\n",
       "      <th>Psychic</th>\n",
       "      <th>Rock</th>\n",
       "      <th>Steel</th>\n",
       "      <th>Water</th>\n",
       "    </tr>\n",
       "    <tr>\n",
       "      <th>Defensive pokemon type</th>\n",
       "      <th></th>\n",
       "      <th></th>\n",
       "      <th></th>\n",
       "      <th></th>\n",
       "      <th></th>\n",
       "      <th></th>\n",
       "      <th></th>\n",
       "      <th></th>\n",
       "      <th></th>\n",
       "      <th></th>\n",
       "      <th></th>\n",
       "      <th></th>\n",
       "      <th></th>\n",
       "      <th></th>\n",
       "      <th></th>\n",
       "      <th></th>\n",
       "      <th></th>\n",
       "      <th></th>\n",
       "    </tr>\n",
       "  </thead>\n",
       "  <tbody>\n",
       "    <tr>\n",
       "      <th>Bug</th>\n",
       "      <td>1.0</td>\n",
       "      <td>1.0</td>\n",
       "      <td>1.00</td>\n",
       "      <td>1.00</td>\n",
       "      <td>1.0</td>\n",
       "      <td>0.50</td>\n",
       "      <td>2.0</td>\n",
       "      <td>2.0</td>\n",
       "      <td>1.00</td>\n",
       "      <td>0.5</td>\n",
       "      <td>0.50</td>\n",
       "      <td>1.0</td>\n",
       "      <td>1.00</td>\n",
       "      <td>1.00</td>\n",
       "      <td>1.00</td>\n",
       "      <td>2.0</td>\n",
       "      <td>1.0</td>\n",
       "      <td>1.0</td>\n",
       "    </tr>\n",
       "    <tr>\n",
       "      <th>Dark</th>\n",
       "      <td>2.0</td>\n",
       "      <td>0.5</td>\n",
       "      <td>1.00</td>\n",
       "      <td>1.00</td>\n",
       "      <td>2.0</td>\n",
       "      <td>2.00</td>\n",
       "      <td>1.0</td>\n",
       "      <td>1.0</td>\n",
       "      <td>0.50</td>\n",
       "      <td>1.0</td>\n",
       "      <td>1.00</td>\n",
       "      <td>1.0</td>\n",
       "      <td>1.00</td>\n",
       "      <td>1.00</td>\n",
       "      <td>0.01</td>\n",
       "      <td>1.0</td>\n",
       "      <td>1.0</td>\n",
       "      <td>1.0</td>\n",
       "    </tr>\n",
       "    <tr>\n",
       "      <th>Dragon</th>\n",
       "      <td>1.0</td>\n",
       "      <td>1.0</td>\n",
       "      <td>2.00</td>\n",
       "      <td>0.50</td>\n",
       "      <td>2.0</td>\n",
       "      <td>1.00</td>\n",
       "      <td>0.5</td>\n",
       "      <td>1.0</td>\n",
       "      <td>1.00</td>\n",
       "      <td>0.5</td>\n",
       "      <td>1.00</td>\n",
       "      <td>2.0</td>\n",
       "      <td>1.00</td>\n",
       "      <td>1.00</td>\n",
       "      <td>1.00</td>\n",
       "      <td>1.0</td>\n",
       "      <td>1.0</td>\n",
       "      <td>0.5</td>\n",
       "    </tr>\n",
       "    <tr>\n",
       "      <th>Electric</th>\n",
       "      <td>1.0</td>\n",
       "      <td>1.0</td>\n",
       "      <td>1.00</td>\n",
       "      <td>0.50</td>\n",
       "      <td>1.0</td>\n",
       "      <td>1.00</td>\n",
       "      <td>1.0</td>\n",
       "      <td>0.5</td>\n",
       "      <td>1.00</td>\n",
       "      <td>1.0</td>\n",
       "      <td>2.00</td>\n",
       "      <td>1.0</td>\n",
       "      <td>1.00</td>\n",
       "      <td>1.00</td>\n",
       "      <td>1.00</td>\n",
       "      <td>1.0</td>\n",
       "      <td>0.5</td>\n",
       "      <td>1.0</td>\n",
       "    </tr>\n",
       "    <tr>\n",
       "      <th>Fairy</th>\n",
       "      <td>0.5</td>\n",
       "      <td>0.5</td>\n",
       "      <td>0.01</td>\n",
       "      <td>1.00</td>\n",
       "      <td>1.0</td>\n",
       "      <td>0.50</td>\n",
       "      <td>1.0</td>\n",
       "      <td>1.0</td>\n",
       "      <td>1.00</td>\n",
       "      <td>1.0</td>\n",
       "      <td>1.00</td>\n",
       "      <td>1.0</td>\n",
       "      <td>1.00</td>\n",
       "      <td>2.00</td>\n",
       "      <td>1.00</td>\n",
       "      <td>1.0</td>\n",
       "      <td>2.0</td>\n",
       "      <td>1.0</td>\n",
       "    </tr>\n",
       "    <tr>\n",
       "      <th>Fighting</th>\n",
       "      <td>0.5</td>\n",
       "      <td>0.5</td>\n",
       "      <td>1.00</td>\n",
       "      <td>1.00</td>\n",
       "      <td>2.0</td>\n",
       "      <td>1.00</td>\n",
       "      <td>1.0</td>\n",
       "      <td>2.0</td>\n",
       "      <td>1.00</td>\n",
       "      <td>1.0</td>\n",
       "      <td>1.00</td>\n",
       "      <td>1.0</td>\n",
       "      <td>1.00</td>\n",
       "      <td>1.00</td>\n",
       "      <td>2.00</td>\n",
       "      <td>0.5</td>\n",
       "      <td>1.0</td>\n",
       "      <td>1.0</td>\n",
       "    </tr>\n",
       "    <tr>\n",
       "      <th>Fire</th>\n",
       "      <td>0.5</td>\n",
       "      <td>1.0</td>\n",
       "      <td>1.00</td>\n",
       "      <td>1.00</td>\n",
       "      <td>0.5</td>\n",
       "      <td>1.00</td>\n",
       "      <td>0.5</td>\n",
       "      <td>1.0</td>\n",
       "      <td>1.00</td>\n",
       "      <td>0.5</td>\n",
       "      <td>2.00</td>\n",
       "      <td>0.5</td>\n",
       "      <td>1.00</td>\n",
       "      <td>1.00</td>\n",
       "      <td>1.00</td>\n",
       "      <td>2.0</td>\n",
       "      <td>0.5</td>\n",
       "      <td>2.0</td>\n",
       "    </tr>\n",
       "    <tr>\n",
       "      <th>Flying</th>\n",
       "      <td>0.5</td>\n",
       "      <td>1.0</td>\n",
       "      <td>1.00</td>\n",
       "      <td>2.00</td>\n",
       "      <td>1.0</td>\n",
       "      <td>0.50</td>\n",
       "      <td>1.0</td>\n",
       "      <td>1.0</td>\n",
       "      <td>1.00</td>\n",
       "      <td>0.5</td>\n",
       "      <td>0.01</td>\n",
       "      <td>2.0</td>\n",
       "      <td>1.00</td>\n",
       "      <td>1.00</td>\n",
       "      <td>1.00</td>\n",
       "      <td>2.0</td>\n",
       "      <td>1.0</td>\n",
       "      <td>1.0</td>\n",
       "    </tr>\n",
       "    <tr>\n",
       "      <th>Ghost</th>\n",
       "      <td>0.5</td>\n",
       "      <td>2.0</td>\n",
       "      <td>1.00</td>\n",
       "      <td>1.00</td>\n",
       "      <td>1.0</td>\n",
       "      <td>0.01</td>\n",
       "      <td>1.0</td>\n",
       "      <td>1.0</td>\n",
       "      <td>2.00</td>\n",
       "      <td>1.0</td>\n",
       "      <td>1.00</td>\n",
       "      <td>1.0</td>\n",
       "      <td>0.01</td>\n",
       "      <td>0.50</td>\n",
       "      <td>1.00</td>\n",
       "      <td>1.0</td>\n",
       "      <td>1.0</td>\n",
       "      <td>1.0</td>\n",
       "    </tr>\n",
       "    <tr>\n",
       "      <th>Grass</th>\n",
       "      <td>2.0</td>\n",
       "      <td>1.0</td>\n",
       "      <td>1.00</td>\n",
       "      <td>0.50</td>\n",
       "      <td>1.0</td>\n",
       "      <td>1.00</td>\n",
       "      <td>2.0</td>\n",
       "      <td>2.0</td>\n",
       "      <td>1.00</td>\n",
       "      <td>0.5</td>\n",
       "      <td>0.50</td>\n",
       "      <td>2.0</td>\n",
       "      <td>1.00</td>\n",
       "      <td>2.00</td>\n",
       "      <td>1.00</td>\n",
       "      <td>1.0</td>\n",
       "      <td>1.0</td>\n",
       "      <td>0.5</td>\n",
       "    </tr>\n",
       "    <tr>\n",
       "      <th>Ground</th>\n",
       "      <td>1.0</td>\n",
       "      <td>1.0</td>\n",
       "      <td>1.00</td>\n",
       "      <td>0.01</td>\n",
       "      <td>1.0</td>\n",
       "      <td>1.00</td>\n",
       "      <td>1.0</td>\n",
       "      <td>1.0</td>\n",
       "      <td>1.00</td>\n",
       "      <td>2.0</td>\n",
       "      <td>1.00</td>\n",
       "      <td>2.0</td>\n",
       "      <td>1.00</td>\n",
       "      <td>0.50</td>\n",
       "      <td>1.00</td>\n",
       "      <td>0.5</td>\n",
       "      <td>1.0</td>\n",
       "      <td>2.0</td>\n",
       "    </tr>\n",
       "    <tr>\n",
       "      <th>Ice</th>\n",
       "      <td>1.0</td>\n",
       "      <td>1.0</td>\n",
       "      <td>1.00</td>\n",
       "      <td>1.00</td>\n",
       "      <td>1.0</td>\n",
       "      <td>2.00</td>\n",
       "      <td>2.0</td>\n",
       "      <td>1.0</td>\n",
       "      <td>1.00</td>\n",
       "      <td>1.0</td>\n",
       "      <td>1.00</td>\n",
       "      <td>0.5</td>\n",
       "      <td>1.00</td>\n",
       "      <td>1.00</td>\n",
       "      <td>1.00</td>\n",
       "      <td>2.0</td>\n",
       "      <td>2.0</td>\n",
       "      <td>1.0</td>\n",
       "    </tr>\n",
       "    <tr>\n",
       "      <th>Normal</th>\n",
       "      <td>1.0</td>\n",
       "      <td>1.0</td>\n",
       "      <td>1.00</td>\n",
       "      <td>1.00</td>\n",
       "      <td>1.0</td>\n",
       "      <td>2.00</td>\n",
       "      <td>1.0</td>\n",
       "      <td>1.0</td>\n",
       "      <td>0.01</td>\n",
       "      <td>1.0</td>\n",
       "      <td>1.00</td>\n",
       "      <td>1.0</td>\n",
       "      <td>1.00</td>\n",
       "      <td>1.00</td>\n",
       "      <td>1.00</td>\n",
       "      <td>1.0</td>\n",
       "      <td>1.0</td>\n",
       "      <td>1.0</td>\n",
       "    </tr>\n",
       "    <tr>\n",
       "      <th>Poison</th>\n",
       "      <td>0.5</td>\n",
       "      <td>1.0</td>\n",
       "      <td>1.00</td>\n",
       "      <td>1.00</td>\n",
       "      <td>0.5</td>\n",
       "      <td>0.50</td>\n",
       "      <td>1.0</td>\n",
       "      <td>1.0</td>\n",
       "      <td>1.00</td>\n",
       "      <td>0.5</td>\n",
       "      <td>2.00</td>\n",
       "      <td>1.0</td>\n",
       "      <td>1.00</td>\n",
       "      <td>0.50</td>\n",
       "      <td>2.00</td>\n",
       "      <td>1.0</td>\n",
       "      <td>1.0</td>\n",
       "      <td>1.0</td>\n",
       "    </tr>\n",
       "    <tr>\n",
       "      <th>Psychic</th>\n",
       "      <td>2.0</td>\n",
       "      <td>2.0</td>\n",
       "      <td>1.00</td>\n",
       "      <td>1.00</td>\n",
       "      <td>1.0</td>\n",
       "      <td>0.50</td>\n",
       "      <td>1.0</td>\n",
       "      <td>1.0</td>\n",
       "      <td>2.00</td>\n",
       "      <td>1.0</td>\n",
       "      <td>1.00</td>\n",
       "      <td>1.0</td>\n",
       "      <td>1.00</td>\n",
       "      <td>1.00</td>\n",
       "      <td>0.50</td>\n",
       "      <td>1.0</td>\n",
       "      <td>1.0</td>\n",
       "      <td>1.0</td>\n",
       "    </tr>\n",
       "    <tr>\n",
       "      <th>Rock</th>\n",
       "      <td>1.0</td>\n",
       "      <td>1.0</td>\n",
       "      <td>1.00</td>\n",
       "      <td>1.00</td>\n",
       "      <td>1.0</td>\n",
       "      <td>2.00</td>\n",
       "      <td>0.5</td>\n",
       "      <td>0.5</td>\n",
       "      <td>1.00</td>\n",
       "      <td>2.0</td>\n",
       "      <td>2.00</td>\n",
       "      <td>1.0</td>\n",
       "      <td>0.50</td>\n",
       "      <td>0.50</td>\n",
       "      <td>1.00</td>\n",
       "      <td>1.0</td>\n",
       "      <td>2.0</td>\n",
       "      <td>2.0</td>\n",
       "    </tr>\n",
       "    <tr>\n",
       "      <th>Steel</th>\n",
       "      <td>0.5</td>\n",
       "      <td>1.0</td>\n",
       "      <td>0.50</td>\n",
       "      <td>1.00</td>\n",
       "      <td>0.5</td>\n",
       "      <td>2.00</td>\n",
       "      <td>2.0</td>\n",
       "      <td>0.5</td>\n",
       "      <td>1.00</td>\n",
       "      <td>0.5</td>\n",
       "      <td>2.00</td>\n",
       "      <td>0.5</td>\n",
       "      <td>0.50</td>\n",
       "      <td>0.01</td>\n",
       "      <td>0.50</td>\n",
       "      <td>0.5</td>\n",
       "      <td>0.5</td>\n",
       "      <td>1.0</td>\n",
       "    </tr>\n",
       "    <tr>\n",
       "      <th>Water</th>\n",
       "      <td>1.0</td>\n",
       "      <td>1.0</td>\n",
       "      <td>1.00</td>\n",
       "      <td>2.00</td>\n",
       "      <td>1.0</td>\n",
       "      <td>1.00</td>\n",
       "      <td>0.5</td>\n",
       "      <td>1.0</td>\n",
       "      <td>1.00</td>\n",
       "      <td>2.0</td>\n",
       "      <td>1.00</td>\n",
       "      <td>0.5</td>\n",
       "      <td>1.00</td>\n",
       "      <td>1.00</td>\n",
       "      <td>1.00</td>\n",
       "      <td>1.0</td>\n",
       "      <td>0.5</td>\n",
       "      <td>0.5</td>\n",
       "    </tr>\n",
       "  </tbody>\n",
       "</table>\n",
       "</div>"
      ],
      "text/plain": [
       "Attack type             Bug  Dark  Dragon  Electric  Fairy  Fighting  Fire  \\\n",
       "Defensive pokemon type                                                       \n",
       "Bug                     1.0   1.0    1.00      1.00    1.0      0.50   2.0   \n",
       "Dark                    2.0   0.5    1.00      1.00    2.0      2.00   1.0   \n",
       "Dragon                  1.0   1.0    2.00      0.50    2.0      1.00   0.5   \n",
       "Electric                1.0   1.0    1.00      0.50    1.0      1.00   1.0   \n",
       "Fairy                   0.5   0.5    0.01      1.00    1.0      0.50   1.0   \n",
       "Fighting                0.5   0.5    1.00      1.00    2.0      1.00   1.0   \n",
       "Fire                    0.5   1.0    1.00      1.00    0.5      1.00   0.5   \n",
       "Flying                  0.5   1.0    1.00      2.00    1.0      0.50   1.0   \n",
       "Ghost                   0.5   2.0    1.00      1.00    1.0      0.01   1.0   \n",
       "Grass                   2.0   1.0    1.00      0.50    1.0      1.00   2.0   \n",
       "Ground                  1.0   1.0    1.00      0.01    1.0      1.00   1.0   \n",
       "Ice                     1.0   1.0    1.00      1.00    1.0      2.00   2.0   \n",
       "Normal                  1.0   1.0    1.00      1.00    1.0      2.00   1.0   \n",
       "Poison                  0.5   1.0    1.00      1.00    0.5      0.50   1.0   \n",
       "Psychic                 2.0   2.0    1.00      1.00    1.0      0.50   1.0   \n",
       "Rock                    1.0   1.0    1.00      1.00    1.0      2.00   0.5   \n",
       "Steel                   0.5   1.0    0.50      1.00    0.5      2.00   2.0   \n",
       "Water                   1.0   1.0    1.00      2.00    1.0      1.00   0.5   \n",
       "\n",
       "Attack type             Flying  Ghost  Grass  Ground  Ice  Normal  Poison  \\\n",
       "Defensive pokemon type                                                      \n",
       "Bug                        2.0   1.00    0.5    0.50  1.0    1.00    1.00   \n",
       "Dark                       1.0   0.50    1.0    1.00  1.0    1.00    1.00   \n",
       "Dragon                     1.0   1.00    0.5    1.00  2.0    1.00    1.00   \n",
       "Electric                   0.5   1.00    1.0    2.00  1.0    1.00    1.00   \n",
       "Fairy                      1.0   1.00    1.0    1.00  1.0    1.00    2.00   \n",
       "Fighting                   2.0   1.00    1.0    1.00  1.0    1.00    1.00   \n",
       "Fire                       1.0   1.00    0.5    2.00  0.5    1.00    1.00   \n",
       "Flying                     1.0   1.00    0.5    0.01  2.0    1.00    1.00   \n",
       "Ghost                      1.0   2.00    1.0    1.00  1.0    0.01    0.50   \n",
       "Grass                      2.0   1.00    0.5    0.50  2.0    1.00    2.00   \n",
       "Ground                     1.0   1.00    2.0    1.00  2.0    1.00    0.50   \n",
       "Ice                        1.0   1.00    1.0    1.00  0.5    1.00    1.00   \n",
       "Normal                     1.0   0.01    1.0    1.00  1.0    1.00    1.00   \n",
       "Poison                     1.0   1.00    0.5    2.00  1.0    1.00    0.50   \n",
       "Psychic                    1.0   2.00    1.0    1.00  1.0    1.00    1.00   \n",
       "Rock                       0.5   1.00    2.0    2.00  1.0    0.50    0.50   \n",
       "Steel                      0.5   1.00    0.5    2.00  0.5    0.50    0.01   \n",
       "Water                      1.0   1.00    2.0    1.00  0.5    1.00    1.00   \n",
       "\n",
       "Attack type             Psychic  Rock  Steel  Water  \n",
       "Defensive pokemon type                               \n",
       "Bug                        1.00   2.0    1.0    1.0  \n",
       "Dark                       0.01   1.0    1.0    1.0  \n",
       "Dragon                     1.00   1.0    1.0    0.5  \n",
       "Electric                   1.00   1.0    0.5    1.0  \n",
       "Fairy                      1.00   1.0    2.0    1.0  \n",
       "Fighting                   2.00   0.5    1.0    1.0  \n",
       "Fire                       1.00   2.0    0.5    2.0  \n",
       "Flying                     1.00   2.0    1.0    1.0  \n",
       "Ghost                      1.00   1.0    1.0    1.0  \n",
       "Grass                      1.00   1.0    1.0    0.5  \n",
       "Ground                     1.00   0.5    1.0    2.0  \n",
       "Ice                        1.00   2.0    2.0    1.0  \n",
       "Normal                     1.00   1.0    1.0    1.0  \n",
       "Poison                     2.00   1.0    1.0    1.0  \n",
       "Psychic                    0.50   1.0    1.0    1.0  \n",
       "Rock                       1.00   1.0    2.0    2.0  \n",
       "Steel                      0.50   0.5    0.5    1.0  \n",
       "Water                      1.00   1.0    0.5    0.5  "
      ]
     },
     "execution_count": 32,
     "metadata": {},
     "output_type": "execute_result"
    }
   ],
   "source": [
    "df_types = pd.read_csv('pokemon-challenge/type.csv', index_col=0)\n",
    "df_types.columns.name = 'Attack type'\n",
    "df_types.index.name = 'Defensive pokemon type'\n",
    "df_types = df_types.replace(0, 0.01)\n",
    "df_types"
   ]
  },
  {
   "cell_type": "markdown",
   "metadata": {
    "slideshow": {
     "slide_type": "slide"
    }
   },
   "source": [
    "We replaced zeros (type immunity) with a small value, to avoid to mangage infinity (here, 100 will be infinity, which is much greater than all other values). \n",
    "\n",
    "Type advantages and disadvantages are combined when the Pokemon has more than one type. Also, it applies to the attack which is performed on the Pokemon, and each attack has only one type. We make the hypothesis when the attacker has more than one type that the type advantage will be the average. This is not necessarily true because, even though attack types are correlated to the Pokemon type, the Pokemon can also perform attacks of a different type (for example an Electric attack even if it's a Fire Pokemon). \n",
    "\n",
    "We compute the type advantage as follow."
   ]
  },
  {
   "cell_type": "code",
   "execution_count": 33,
   "metadata": {
    "slideshow": {
     "slide_type": "fragment"
    }
   },
   "outputs": [],
   "source": [
    "def type_advantage_offensive(t1, t2, to1, to2):\n",
    "    if not t2:\n",
    "        if not to2:\n",
    "            return df_types[t1][to1]\n",
    "        return (df_types[t1][to1] * df_types[t1][to2]) \n",
    "    if not to2:\n",
    "        return (df_types[t1][to1] + df_types[t2][to1]) / 2\n",
    "    return (df_types[t1][to1] * df_types[t2][to1] + df_types[t1][to2] * df_types[t2][to2]) / 2.  \n",
    "\n",
    "\n",
    "def type_advantage_defensive(t1, t2, to1, to2):\n",
    "    tao = type_advantage_offensive(to1, to2, t1, t2)\n",
    "    return  1. / type_advantage_offensive(to1, to2, t1, t2)"
   ]
  },
  {
   "cell_type": "code",
   "execution_count": 34,
   "metadata": {
    "slideshow": {
     "slide_type": "slide"
    }
   },
   "outputs": [],
   "source": [
    "df_ml_type = df.drop(['First_pokemon', 'Second_pokemon', \n",
    "                      'Winner', 'Name', 'Name_opponent', \n",
    "                      'Generation', 'Generation_opponent'], axis=1)\n",
    "df_ml_type['Legendary'] = df_ml_type['Legendary'].astype(int)\n",
    "df_ml_type['Legendary_opponent'] = df_ml_type['Legendary_opponent'].astype(int)"
   ]
  },
  {
   "cell_type": "code",
   "execution_count": 35,
   "metadata": {
    "slideshow": {
     "slide_type": "slide"
    }
   },
   "outputs": [],
   "source": [
    "types_ =  df_ml_type[['Type 1', 'Type 2', 'Type 1_opponent', 'Type 2_opponent']].fillna(value='')\n",
    "df_ml_type['Type_advantage_offensive'] = types_.fillna('').apply(lambda x: type_advantage_offensive(*x), axis=1)\n",
    "df_ml_type['Type_advantage_defensive'] = types_.apply(lambda x: type_advantage_defensive(*x), axis=1)\n",
    "df_ml_type = df_ml_type.drop(['Type 1', 'Type 2', 'Type 1_opponent', 'Type 2_opponent'], axis=1)"
   ]
  },
  {
   "cell_type": "code",
   "execution_count": 36,
   "metadata": {
    "slideshow": {
     "slide_type": "slide"
    }
   },
   "outputs": [
    {
     "data": {
      "text/html": [
       "<div>\n",
       "<style scoped>\n",
       "    .dataframe tbody tr th:only-of-type {\n",
       "        vertical-align: middle;\n",
       "    }\n",
       "\n",
       "    .dataframe tbody tr th {\n",
       "        vertical-align: top;\n",
       "    }\n",
       "\n",
       "    .dataframe thead th {\n",
       "        text-align: right;\n",
       "    }\n",
       "</style>\n",
       "<table border=\"1\" class=\"dataframe\">\n",
       "  <thead>\n",
       "    <tr style=\"text-align: right;\">\n",
       "      <th></th>\n",
       "      <th>label</th>\n",
       "      <th>HP</th>\n",
       "      <th>Attack</th>\n",
       "      <th>Defense</th>\n",
       "      <th>Sp. Atk</th>\n",
       "      <th>Sp. Def</th>\n",
       "      <th>Speed</th>\n",
       "      <th>Legendary</th>\n",
       "      <th>HP_opponent</th>\n",
       "      <th>Attack_opponent</th>\n",
       "      <th>Defense_opponent</th>\n",
       "      <th>Sp. Atk_opponent</th>\n",
       "      <th>Sp. Def_opponent</th>\n",
       "      <th>Speed_opponent</th>\n",
       "      <th>Legendary_opponent</th>\n",
       "      <th>Type_advantage_offensive</th>\n",
       "      <th>Type_advantage_defensive</th>\n",
       "    </tr>\n",
       "  </thead>\n",
       "  <tbody>\n",
       "    <tr>\n",
       "      <th>0</th>\n",
       "      <td>0</td>\n",
       "      <td>50</td>\n",
       "      <td>64</td>\n",
       "      <td>50</td>\n",
       "      <td>45</td>\n",
       "      <td>50</td>\n",
       "      <td>41</td>\n",
       "      <td>0</td>\n",
       "      <td>70</td>\n",
       "      <td>70</td>\n",
       "      <td>40</td>\n",
       "      <td>60</td>\n",
       "      <td>40</td>\n",
       "      <td>60</td>\n",
       "      <td>0</td>\n",
       "      <td>0.75</td>\n",
       "      <td>0.500000</td>\n",
       "    </tr>\n",
       "    <tr>\n",
       "      <th>1</th>\n",
       "      <td>0</td>\n",
       "      <td>91</td>\n",
       "      <td>90</td>\n",
       "      <td>72</td>\n",
       "      <td>90</td>\n",
       "      <td>129</td>\n",
       "      <td>108</td>\n",
       "      <td>1</td>\n",
       "      <td>91</td>\n",
       "      <td>129</td>\n",
       "      <td>90</td>\n",
       "      <td>72</td>\n",
       "      <td>90</td>\n",
       "      <td>108</td>\n",
       "      <td>1</td>\n",
       "      <td>2.50</td>\n",
       "      <td>1.333333</td>\n",
       "    </tr>\n",
       "    <tr>\n",
       "      <th>2</th>\n",
       "      <td>0</td>\n",
       "      <td>55</td>\n",
       "      <td>40</td>\n",
       "      <td>85</td>\n",
       "      <td>80</td>\n",
       "      <td>105</td>\n",
       "      <td>40</td>\n",
       "      <td>0</td>\n",
       "      <td>75</td>\n",
       "      <td>75</td>\n",
       "      <td>75</td>\n",
       "      <td>125</td>\n",
       "      <td>95</td>\n",
       "      <td>40</td>\n",
       "      <td>0</td>\n",
       "      <td>1.00</td>\n",
       "      <td>1.000000</td>\n",
       "    </tr>\n",
       "    <tr>\n",
       "      <th>3</th>\n",
       "      <td>0</td>\n",
       "      <td>40</td>\n",
       "      <td>40</td>\n",
       "      <td>40</td>\n",
       "      <td>70</td>\n",
       "      <td>40</td>\n",
       "      <td>20</td>\n",
       "      <td>0</td>\n",
       "      <td>77</td>\n",
       "      <td>120</td>\n",
       "      <td>90</td>\n",
       "      <td>60</td>\n",
       "      <td>90</td>\n",
       "      <td>48</td>\n",
       "      <td>0</td>\n",
       "      <td>0.50</td>\n",
       "      <td>1.000000</td>\n",
       "    </tr>\n",
       "    <tr>\n",
       "      <th>4</th>\n",
       "      <td>1</td>\n",
       "      <td>70</td>\n",
       "      <td>60</td>\n",
       "      <td>125</td>\n",
       "      <td>115</td>\n",
       "      <td>70</td>\n",
       "      <td>55</td>\n",
       "      <td>0</td>\n",
       "      <td>20</td>\n",
       "      <td>10</td>\n",
       "      <td>230</td>\n",
       "      <td>10</td>\n",
       "      <td>230</td>\n",
       "      <td>5</td>\n",
       "      <td>0</td>\n",
       "      <td>2.00</td>\n",
       "      <td>1.000000</td>\n",
       "    </tr>\n",
       "  </tbody>\n",
       "</table>\n",
       "</div>"
      ],
      "text/plain": [
       "   label  HP  Attack  Defense  Sp. Atk  Sp. Def  Speed  Legendary  \\\n",
       "0      0  50      64       50       45       50     41          0   \n",
       "1      0  91      90       72       90      129    108          1   \n",
       "2      0  55      40       85       80      105     40          0   \n",
       "3      0  40      40       40       70       40     20          0   \n",
       "4      1  70      60      125      115       70     55          0   \n",
       "\n",
       "   HP_opponent  Attack_opponent  Defense_opponent  Sp. Atk_opponent  \\\n",
       "0           70               70                40                60   \n",
       "1           91              129                90                72   \n",
       "2           75               75                75               125   \n",
       "3           77              120                90                60   \n",
       "4           20               10               230                10   \n",
       "\n",
       "   Sp. Def_opponent  Speed_opponent  Legendary_opponent  \\\n",
       "0                40              60                   0   \n",
       "1                90             108                   1   \n",
       "2                95              40                   0   \n",
       "3                90              48                   0   \n",
       "4               230               5                   0   \n",
       "\n",
       "   Type_advantage_offensive  Type_advantage_defensive  \n",
       "0                      0.75                  0.500000  \n",
       "1                      2.50                  1.333333  \n",
       "2                      1.00                  1.000000  \n",
       "3                      0.50                  1.000000  \n",
       "4                      2.00                  1.000000  "
      ]
     },
     "execution_count": 36,
     "metadata": {},
     "output_type": "execute_result"
    }
   ],
   "source": [
    "df_ml_type.head()"
   ]
  },
  {
   "cell_type": "markdown",
   "metadata": {
    "slideshow": {
     "slide_type": "slide"
    }
   },
   "source": [
    "Now we can train all of our ML models as previously."
   ]
  },
  {
   "cell_type": "code",
   "execution_count": 37,
   "metadata": {
    "slideshow": {
     "slide_type": "fragment"
    }
   },
   "outputs": [
    {
     "data": {
      "text/plain": [
       "0.9377249867656243"
      ]
     },
     "execution_count": 37,
     "metadata": {},
     "output_type": "execute_result"
    }
   ],
   "source": [
    "X_type = df_ml_type.drop('label', axis=1).as_matrix()\n",
    "y_type = df_ml_type['label'].as_matrix()\n",
    "cross_val_score(DecisionTreeClassifier(), X, y, cv=10).mean()"
   ]
  },
  {
   "cell_type": "code",
   "execution_count": 38,
   "metadata": {
    "slideshow": {
     "slide_type": "fragment"
    }
   },
   "outputs": [
    {
     "data": {
      "text/html": [
       "<div>\n",
       "<style scoped>\n",
       "    .dataframe tbody tr th:only-of-type {\n",
       "        vertical-align: middle;\n",
       "    }\n",
       "\n",
       "    .dataframe tbody tr th {\n",
       "        vertical-align: top;\n",
       "    }\n",
       "\n",
       "    .dataframe thead th {\n",
       "        text-align: right;\n",
       "    }\n",
       "</style>\n",
       "<table border=\"1\" class=\"dataframe\">\n",
       "  <thead>\n",
       "    <tr style=\"text-align: right;\">\n",
       "      <th></th>\n",
       "      <th>Feature importance</th>\n",
       "    </tr>\n",
       "  </thead>\n",
       "  <tbody>\n",
       "    <tr>\n",
       "      <th>Speed</th>\n",
       "      <td>0.410625</td>\n",
       "    </tr>\n",
       "    <tr>\n",
       "      <th>Speed_opponent</th>\n",
       "      <td>0.393651</td>\n",
       "    </tr>\n",
       "    <tr>\n",
       "      <th>Type_advantage_offensive</th>\n",
       "      <td>0.039176</td>\n",
       "    </tr>\n",
       "    <tr>\n",
       "      <th>Attack_opponent</th>\n",
       "      <td>0.028135</td>\n",
       "    </tr>\n",
       "    <tr>\n",
       "      <th>Attack</th>\n",
       "      <td>0.023503</td>\n",
       "    </tr>\n",
       "    <tr>\n",
       "      <th>Type_advantage_defensive</th>\n",
       "      <td>0.023084</td>\n",
       "    </tr>\n",
       "    <tr>\n",
       "      <th>HP_opponent</th>\n",
       "      <td>0.014308</td>\n",
       "    </tr>\n",
       "    <tr>\n",
       "      <th>HP</th>\n",
       "      <td>0.013558</td>\n",
       "    </tr>\n",
       "    <tr>\n",
       "      <th>Defense_opponent</th>\n",
       "      <td>0.010831</td>\n",
       "    </tr>\n",
       "    <tr>\n",
       "      <th>Defense</th>\n",
       "      <td>0.009824</td>\n",
       "    </tr>\n",
       "    <tr>\n",
       "      <th>Sp. Atk</th>\n",
       "      <td>0.009533</td>\n",
       "    </tr>\n",
       "    <tr>\n",
       "      <th>Sp. Def_opponent</th>\n",
       "      <td>0.008307</td>\n",
       "    </tr>\n",
       "    <tr>\n",
       "      <th>Sp. Def</th>\n",
       "      <td>0.007391</td>\n",
       "    </tr>\n",
       "    <tr>\n",
       "      <th>Sp. Atk_opponent</th>\n",
       "      <td>0.007175</td>\n",
       "    </tr>\n",
       "    <tr>\n",
       "      <th>Legendary_opponent</th>\n",
       "      <td>0.000505</td>\n",
       "    </tr>\n",
       "    <tr>\n",
       "      <th>Legendary</th>\n",
       "      <td>0.000394</td>\n",
       "    </tr>\n",
       "  </tbody>\n",
       "</table>\n",
       "</div>"
      ],
      "text/plain": [
       "                          Feature importance\n",
       "Speed                               0.410625\n",
       "Speed_opponent                      0.393651\n",
       "Type_advantage_offensive            0.039176\n",
       "Attack_opponent                     0.028135\n",
       "Attack                              0.023503\n",
       "Type_advantage_defensive            0.023084\n",
       "HP_opponent                         0.014308\n",
       "HP                                  0.013558\n",
       "Defense_opponent                    0.010831\n",
       "Defense                             0.009824\n",
       "Sp. Atk                             0.009533\n",
       "Sp. Def_opponent                    0.008307\n",
       "Sp. Def                             0.007391\n",
       "Sp. Atk_opponent                    0.007175\n",
       "Legendary_opponent                  0.000505\n",
       "Legendary                           0.000394"
      ]
     },
     "execution_count": 38,
     "metadata": {},
     "output_type": "execute_result"
    }
   ],
   "source": [
    "dt = DecisionTreeClassifier()\n",
    "dt.fit(X_type, y_type)\n",
    "pd.DataFrame(data=dt.feature_importances_, index=df_ml_type.columns[1:],\n",
    "             columns=['Feature importance']).sort_values(by=\"Feature importance\", ascending=False)"
   ]
  },
  {
   "cell_type": "markdown",
   "metadata": {
    "slideshow": {
     "slide_type": "slide"
    }
   },
   "source": [
    "In this case, the accuracy doesn't change a lot, since the speed is so much more important than any other features. \n",
    "\n",
    "We can nonetheless observe that the type advantage is the third most important feature, whereas in the original encoding, the information was basically useless to the algorithm."
   ]
  },
  {
   "cell_type": "markdown",
   "metadata": {
    "slideshow": {
     "slide_type": "slide"
    }
   },
   "source": [
    "## Now we can predict new battle outcomes\n",
    "\n",
    "We've been interating on our test data with different algorithms and models and hyperparameters, but what if we learned how to be good on this data, and not on real life data (overfitting) ?\n",
    "There are data in another dataset that we've left untouched, to simulate real life data that we really can't predict. Let's see how we perform on those.\n",
    "\n",
    "We will need to perform the same preprocessing steps that we ran on the training data to prepare the dataset. "
   ]
  },
  {
   "cell_type": "code",
   "execution_count": 39,
   "metadata": {
    "slideshow": {
     "slide_type": "slide"
    }
   },
   "outputs": [
    {
     "data": {
      "text/html": [
       "<div>\n",
       "<style scoped>\n",
       "    .dataframe tbody tr th:only-of-type {\n",
       "        vertical-align: middle;\n",
       "    }\n",
       "\n",
       "    .dataframe tbody tr th {\n",
       "        vertical-align: top;\n",
       "    }\n",
       "\n",
       "    .dataframe thead th {\n",
       "        text-align: right;\n",
       "    }\n",
       "</style>\n",
       "<table border=\"1\" class=\"dataframe\">\n",
       "  <thead>\n",
       "    <tr style=\"text-align: right;\">\n",
       "      <th></th>\n",
       "      <th>label</th>\n",
       "      <th>HP</th>\n",
       "      <th>Attack</th>\n",
       "      <th>Defense</th>\n",
       "      <th>Sp. Atk</th>\n",
       "      <th>Sp. Def</th>\n",
       "      <th>Speed</th>\n",
       "      <th>Legendary</th>\n",
       "      <th>HP_opponent</th>\n",
       "      <th>Attack_opponent</th>\n",
       "      <th>...</th>\n",
       "      <th>Opponent_Type_Ghost</th>\n",
       "      <th>Opponent_Type_Grass</th>\n",
       "      <th>Opponent_Type_Ground</th>\n",
       "      <th>Opponent_Type_Ice</th>\n",
       "      <th>Opponent_Type_Normal</th>\n",
       "      <th>Opponent_Type_Poison</th>\n",
       "      <th>Opponent_Type_Psychic</th>\n",
       "      <th>Opponent_Type_Rock</th>\n",
       "      <th>Opponent_Type_Steel</th>\n",
       "      <th>Opponent_Type_Water</th>\n",
       "    </tr>\n",
       "  </thead>\n",
       "  <tbody>\n",
       "    <tr>\n",
       "      <th>0</th>\n",
       "      <td>1</td>\n",
       "      <td>80</td>\n",
       "      <td>100</td>\n",
       "      <td>123</td>\n",
       "      <td>122</td>\n",
       "      <td>120</td>\n",
       "      <td>80</td>\n",
       "      <td>0</td>\n",
       "      <td>70</td>\n",
       "      <td>90</td>\n",
       "      <td>...</td>\n",
       "      <td>0</td>\n",
       "      <td>0</td>\n",
       "      <td>0</td>\n",
       "      <td>0</td>\n",
       "      <td>0</td>\n",
       "      <td>0</td>\n",
       "      <td>0</td>\n",
       "      <td>0</td>\n",
       "      <td>0</td>\n",
       "      <td>0</td>\n",
       "    </tr>\n",
       "    <tr>\n",
       "      <th>1</th>\n",
       "      <td>1</td>\n",
       "      <td>90</td>\n",
       "      <td>93</td>\n",
       "      <td>55</td>\n",
       "      <td>70</td>\n",
       "      <td>55</td>\n",
       "      <td>55</td>\n",
       "      <td>0</td>\n",
       "      <td>120</td>\n",
       "      <td>100</td>\n",
       "      <td>...</td>\n",
       "      <td>0</td>\n",
       "      <td>0</td>\n",
       "      <td>0</td>\n",
       "      <td>0</td>\n",
       "      <td>0</td>\n",
       "      <td>0</td>\n",
       "      <td>0</td>\n",
       "      <td>0</td>\n",
       "      <td>0</td>\n",
       "      <td>0</td>\n",
       "    </tr>\n",
       "    <tr>\n",
       "      <th>2</th>\n",
       "      <td>1</td>\n",
       "      <td>70</td>\n",
       "      <td>145</td>\n",
       "      <td>88</td>\n",
       "      <td>140</td>\n",
       "      <td>70</td>\n",
       "      <td>112</td>\n",
       "      <td>0</td>\n",
       "      <td>75</td>\n",
       "      <td>80</td>\n",
       "      <td>...</td>\n",
       "      <td>0</td>\n",
       "      <td>1</td>\n",
       "      <td>0</td>\n",
       "      <td>0</td>\n",
       "      <td>0</td>\n",
       "      <td>0</td>\n",
       "      <td>0</td>\n",
       "      <td>0</td>\n",
       "      <td>0</td>\n",
       "      <td>0</td>\n",
       "    </tr>\n",
       "    <tr>\n",
       "      <th>3</th>\n",
       "      <td>0</td>\n",
       "      <td>35</td>\n",
       "      <td>70</td>\n",
       "      <td>55</td>\n",
       "      <td>45</td>\n",
       "      <td>55</td>\n",
       "      <td>25</td>\n",
       "      <td>0</td>\n",
       "      <td>80</td>\n",
       "      <td>70</td>\n",
       "      <td>...</td>\n",
       "      <td>0</td>\n",
       "      <td>0</td>\n",
       "      <td>0</td>\n",
       "      <td>0</td>\n",
       "      <td>0</td>\n",
       "      <td>1</td>\n",
       "      <td>0</td>\n",
       "      <td>0</td>\n",
       "      <td>0</td>\n",
       "      <td>1</td>\n",
       "    </tr>\n",
       "    <tr>\n",
       "      <th>4</th>\n",
       "      <td>0</td>\n",
       "      <td>60</td>\n",
       "      <td>69</td>\n",
       "      <td>95</td>\n",
       "      <td>69</td>\n",
       "      <td>95</td>\n",
       "      <td>36</td>\n",
       "      <td>0</td>\n",
       "      <td>65</td>\n",
       "      <td>65</td>\n",
       "      <td>...</td>\n",
       "      <td>0</td>\n",
       "      <td>0</td>\n",
       "      <td>0</td>\n",
       "      <td>0</td>\n",
       "      <td>0</td>\n",
       "      <td>0</td>\n",
       "      <td>0</td>\n",
       "      <td>0</td>\n",
       "      <td>0</td>\n",
       "      <td>0</td>\n",
       "    </tr>\n",
       "  </tbody>\n",
       "</table>\n",
       "<p>5 rows × 51 columns</p>\n",
       "</div>"
      ],
      "text/plain": [
       "   label  HP  Attack  Defense  Sp. Atk  Sp. Def  Speed  Legendary  \\\n",
       "0      1  80     100      123      122      120     80          0   \n",
       "1      1  90      93       55       70       55     55          0   \n",
       "2      1  70     145       88      140       70    112          0   \n",
       "3      0  35      70       55       45       55     25          0   \n",
       "4      0  60      69       95       69       95     36          0   \n",
       "\n",
       "   HP_opponent  Attack_opponent         ...           Opponent_Type_Ghost  \\\n",
       "0           70               90         ...                             0   \n",
       "1          120              100         ...                             0   \n",
       "2           75               80         ...                             0   \n",
       "3           80               70         ...                             0   \n",
       "4           65               65         ...                             0   \n",
       "\n",
       "   Opponent_Type_Grass  Opponent_Type_Ground  Opponent_Type_Ice  \\\n",
       "0                    0                     0                  0   \n",
       "1                    0                     0                  0   \n",
       "2                    1                     0                  0   \n",
       "3                    0                     0                  0   \n",
       "4                    0                     0                  0   \n",
       "\n",
       "   Opponent_Type_Normal  Opponent_Type_Poison  Opponent_Type_Psychic  \\\n",
       "0                     0                     0                      0   \n",
       "1                     0                     0                      0   \n",
       "2                     0                     0                      0   \n",
       "3                     0                     1                      0   \n",
       "4                     0                     0                      0   \n",
       "\n",
       "   Opponent_Type_Rock  Opponent_Type_Steel  Opponent_Type_Water  \n",
       "0                   0                    0                    0  \n",
       "1                   0                    0                    0  \n",
       "2                   0                    0                    0  \n",
       "3                   0                    0                    1  \n",
       "4                   0                    0                    0  \n",
       "\n",
       "[5 rows x 51 columns]"
      ]
     },
     "execution_count": 39,
     "metadata": {},
     "output_type": "execute_result"
    }
   ],
   "source": [
    "battles_test = pd.read_csv('pokemon-challenge/battles_test.csv')\n",
    "pokemons = pd.read_csv('pokemon-challenge/pokemon.csv', index_col=0)\n",
    "battles_test['label'] = (battles_test['First_pokemon'] == battles_test['Winner']).astype(int)\n",
    "df_test = battles_test.join(pokemons, on='First_pokemon').join(pokemons, on='Second_pokemon', rsuffix='_opponent')\n",
    "df_ml_test = df_test.drop(['First_pokemon', 'Second_pokemon', 'Winner',\n",
    "                           'Name', 'Name_opponent', \n",
    "                           'Generation', 'Generation_opponent'], axis=1)\n",
    "df_ml_test['Legendary'] = df_ml_test['Legendary'].astype(int)\n",
    "df_ml_test['Legendary_opponent'] =df_ml_test['Legendary_opponent'].astype(int)\n",
    "types = pd.get_dummies(df_ml_test['Type 1'], prefix='Type') + pd.get_dummies(df_ml_test['Type 2'], prefix='Type')\n",
    "types_opponents = pd.get_dummies(df_ml_test['Type 1_opponent'], prefix='Opponent_Type') + pd.get_dummies(df_ml_test['Type 2_opponent'], prefix='Opponent_Type')\n",
    "df_ml_test = pd.concat((df_ml_test, types, types_opponents), axis=1).drop(['Type 1', 'Type 2', 'Type 1_opponent', 'Type 2_opponent'], axis=1)\n",
    "df_ml_test.head()"
   ]
  },
  {
   "cell_type": "code",
   "execution_count": 40,
   "metadata": {
    "slideshow": {
     "slide_type": "slide"
    }
   },
   "outputs": [],
   "source": [
    "X = df_ml.drop('label', axis=1).as_matrix()\n",
    "y = df_ml['label'].as_matrix()\n",
    "X_test = df_ml_test.drop('label', axis=1).as_matrix()\n",
    "y_test = df_ml_test['label'].as_matrix()"
   ]
  },
  {
   "cell_type": "code",
   "execution_count": 41,
   "metadata": {
    "slideshow": {
     "slide_type": "slide"
    }
   },
   "outputs": [
    {
     "data": {
      "text/plain": [
       "0.9426"
      ]
     },
     "execution_count": 41,
     "metadata": {},
     "output_type": "execute_result"
    }
   ],
   "source": [
    "dt = DecisionTreeClassifier()\n",
    "dt.fit(X, y)\n",
    "dt.score(X_test, y_test)"
   ]
  },
  {
   "cell_type": "code",
   "execution_count": 42,
   "metadata": {
    "slideshow": {
     "slide_type": "slide"
    }
   },
   "outputs": [
    {
     "data": {
      "text/plain": [
       "0.945"
      ]
     },
     "execution_count": 42,
     "metadata": {},
     "output_type": "execute_result"
    }
   ],
   "source": [
    "rf = RandomForestClassifier(n_estimators=40)\n",
    "rf.fit(X, y)\n",
    "rf.score(X_test, y_test)"
   ]
  }
 ],
 "metadata": {
  "celltoolbar": "Slideshow",
  "kernelspec": {
   "display_name": "Python 3",
   "language": "python",
   "name": "python3"
  },
  "language_info": {
   "codemirror_mode": {
    "name": "ipython",
    "version": 3
   },
   "file_extension": ".py",
   "mimetype": "text/x-python",
   "name": "python",
   "nbconvert_exporter": "python",
   "pygments_lexer": "ipython3",
   "version": "3.6.4"
  }
 },
 "nbformat": 4,
 "nbformat_minor": 2
}
